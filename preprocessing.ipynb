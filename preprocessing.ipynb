{
 "cells": [
  {
   "cell_type": "markdown",
   "source": [
    "# Предобработка данных"
   ],
   "metadata": {
    "collapsed": false
   },
   "id": "ad69225691369925"
  },
  {
   "cell_type": "markdown",
   "source": [
    "## Импорты библиотек"
   ],
   "metadata": {
    "collapsed": false
   },
   "id": "a7a72051d358994"
  },
  {
   "cell_type": "code",
   "execution_count": 1,
   "id": "initial_id",
   "metadata": {
    "collapsed": true,
    "ExecuteTime": {
     "end_time": "2023-12-10T17:38:27.830251Z",
     "start_time": "2023-12-10T17:38:27.827913Z"
    }
   },
   "outputs": [],
   "source": [
    "import pandas as pd\n",
    "import seaborn as sns"
   ]
  },
  {
   "cell_type": "code",
   "execution_count": 2,
   "outputs": [],
   "source": [
    "DATA_PATH = 'datasets/'\n",
    "DATA_FULL_FILENAME = 'data_full.csv'"
   ],
   "metadata": {
    "collapsed": false,
    "ExecuteTime": {
     "end_time": "2023-12-10T17:38:27.834106Z",
     "start_time": "2023-12-10T17:38:27.830133Z"
    }
   },
   "id": "cd943d7e9e8460dd"
  },
  {
   "cell_type": "markdown",
   "source": [],
   "metadata": {
    "collapsed": false
   },
   "id": "68da25a8764a63b1"
  },
  {
   "cell_type": "markdown",
   "source": [
    "## target"
   ],
   "metadata": {
    "collapsed": false
   },
   "id": "3a789bee301ea879"
  },
  {
   "cell_type": "code",
   "execution_count": 3,
   "outputs": [],
   "source": [
    "# чтение датасета\n",
    "target_df = pd.read_csv(DATA_PATH + 'target.csv')"
   ],
   "metadata": {
    "collapsed": false,
    "ExecuteTime": {
     "end_time": "2023-12-10T17:38:27.843942Z",
     "start_time": "2023-12-10T17:38:27.832717Z"
    }
   },
   "id": "6bdb2367eea38bfb"
  },
  {
   "cell_type": "code",
   "execution_count": 4,
   "outputs": [
    {
     "data": {
      "text/plain": "   AGREEMENT_RK  ID_CLIENT  TARGET\n0      59910150  106804370       0\n1      59910230  106804371       0\n2      59910525  106804372       0\n3      59910803  106804373       0\n4      59911781  106804374       0",
      "text/html": "<div>\n<style scoped>\n    .dataframe tbody tr th:only-of-type {\n        vertical-align: middle;\n    }\n\n    .dataframe tbody tr th {\n        vertical-align: top;\n    }\n\n    .dataframe thead th {\n        text-align: right;\n    }\n</style>\n<table border=\"1\" class=\"dataframe\">\n  <thead>\n    <tr style=\"text-align: right;\">\n      <th></th>\n      <th>AGREEMENT_RK</th>\n      <th>ID_CLIENT</th>\n      <th>TARGET</th>\n    </tr>\n  </thead>\n  <tbody>\n    <tr>\n      <th>0</th>\n      <td>59910150</td>\n      <td>106804370</td>\n      <td>0</td>\n    </tr>\n    <tr>\n      <th>1</th>\n      <td>59910230</td>\n      <td>106804371</td>\n      <td>0</td>\n    </tr>\n    <tr>\n      <th>2</th>\n      <td>59910525</td>\n      <td>106804372</td>\n      <td>0</td>\n    </tr>\n    <tr>\n      <th>3</th>\n      <td>59910803</td>\n      <td>106804373</td>\n      <td>0</td>\n    </tr>\n    <tr>\n      <th>4</th>\n      <td>59911781</td>\n      <td>106804374</td>\n      <td>0</td>\n    </tr>\n  </tbody>\n</table>\n</div>"
     },
     "execution_count": 4,
     "metadata": {},
     "output_type": "execute_result"
    }
   ],
   "source": [
    "# вывод на экран первых 5 объектов датасета\n",
    "target_df.head()"
   ],
   "metadata": {
    "collapsed": false,
    "ExecuteTime": {
     "end_time": "2023-12-10T17:38:27.851522Z",
     "start_time": "2023-12-10T17:38:27.842772Z"
    }
   },
   "id": "16ccf35f81b732dc"
  },
  {
   "cell_type": "code",
   "execution_count": 5,
   "outputs": [
    {
     "name": "stdout",
     "output_type": "stream",
     "text": [
      "<class 'pandas.core.frame.DataFrame'>\n",
      "RangeIndex: 15223 entries, 0 to 15222\n",
      "Data columns (total 3 columns):\n",
      " #   Column        Non-Null Count  Dtype\n",
      "---  ------        --------------  -----\n",
      " 0   AGREEMENT_RK  15223 non-null  int64\n",
      " 1   ID_CLIENT     15223 non-null  int64\n",
      " 2   TARGET        15223 non-null  int64\n",
      "dtypes: int64(3)\n",
      "memory usage: 356.9 KB\n"
     ]
    }
   ],
   "source": [
    "# вывод на экран общей информации о датасете\n",
    "target_df.info()"
   ],
   "metadata": {
    "collapsed": false,
    "ExecuteTime": {
     "end_time": "2023-12-10T17:38:27.886159Z",
     "start_time": "2023-12-10T17:38:27.848519Z"
    }
   },
   "id": "ea916bb634f7c614"
  },
  {
   "cell_type": "markdown",
   "source": [
    "датасет не содержит пропусков"
   ],
   "metadata": {
    "collapsed": false
   },
   "id": "f5a33399eeaab654"
  },
  {
   "cell_type": "code",
   "execution_count": 6,
   "outputs": [],
   "source": [
    "# проверка: датасет содержит информацию об уникальных клиентах\n",
    "assert target_df.AGREEMENT_RK.nunique() == len(target_df)\n",
    "assert target_df.ID_CLIENT.nunique() == len(target_df)\n",
    "\n",
    "# проверка: бинарность целевого значения\n",
    "assert target_df.TARGET.nunique() == 2"
   ],
   "metadata": {
    "collapsed": false,
    "ExecuteTime": {
     "end_time": "2023-12-10T17:38:27.886319Z",
     "start_time": "2023-12-10T17:38:27.854693Z"
    }
   },
   "id": "d2ea462fb8c09a7a"
  },
  {
   "cell_type": "markdown",
   "source": [
    "датасет не содержит дубликатов, следовательно, в объединенном датасете должна содержаться информация о 15223 уникальных клиентах\n",
    "\n",
    "здесь и далее — для удобства объединения датасетов сделаем признак `ID_CLIENT` индексом:\n"
   ],
   "metadata": {
    "collapsed": false
   },
   "id": "1e7c6e7245999031"
  },
  {
   "cell_type": "code",
   "execution_count": 7,
   "outputs": [],
   "source": [
    "# установление столбца ID_CLIENT в качестве индекса\n",
    "target_df.set_index(keys='ID_CLIENT', inplace=True)"
   ],
   "metadata": {
    "collapsed": false,
    "ExecuteTime": {
     "end_time": "2023-12-10T17:38:27.886382Z",
     "start_time": "2023-12-10T17:38:27.858485Z"
    }
   },
   "id": "9410507a18ed0260"
  },
  {
   "cell_type": "markdown",
   "source": [
    "## clients"
   ],
   "metadata": {
    "collapsed": false
   },
   "id": "1257d97e3c38d61e"
  },
  {
   "cell_type": "code",
   "execution_count": 8,
   "outputs": [],
   "source": [
    "# чтение датасета\n",
    "clients_df = pd.read_csv(DATA_PATH + 'clients.csv')"
   ],
   "metadata": {
    "collapsed": false,
    "ExecuteTime": {
     "end_time": "2023-12-10T17:38:27.944309Z",
     "start_time": "2023-12-10T17:38:27.860667Z"
    }
   },
   "id": "7d9de135c3056696"
  },
  {
   "cell_type": "code",
   "execution_count": 9,
   "outputs": [
    {
     "data": {
      "text/plain": "          ID  AGE  GENDER            EDUCATION      MARITAL_STATUS  \\\n0  106805103   42       1              Среднее  Не состоял в браке   \n1  106809308   28       1  Среднее специальное      Состою в браке   \n2  106805867   64       0  Среднее специальное      Состою в браке   \n3  106808779   54       1  Среднее специальное      Состою в браке   \n4  106814289   26       0  Среднее специальное      Состою в браке   \n\n   CHILD_TOTAL  DEPENDANTS  SOCSTATUS_WORK_FL  SOCSTATUS_PENS_FL  \\\n0            1           0                  1                  0   \n1            1           1                  1                  0   \n2            2           0                  1                  1   \n3            0           0                  1                  0   \n4            1           1                  1                  0   \n\n    REG_ADDRESS_PROVINCE  FACT_ADDRESS_PROVINCE POSTAL_ADDRESS_PROVINCE  \\\n0     Московская область     Московская область      Московская область   \n1      Читинская область      Читинская область       Читинская область   \n2      Иркутская область      Иркутская область       Иркутская область   \n3  Новосибирская область  Новосибирская область   Новосибирская область   \n4      Красноярский край      Красноярский край       Красноярский край   \n\n   FL_PRESENCE_FL  OWN_AUTO  \n0               1         0  \n1               0         0  \n2               0         1  \n3               1         1  \n4               1         0  ",
      "text/html": "<div>\n<style scoped>\n    .dataframe tbody tr th:only-of-type {\n        vertical-align: middle;\n    }\n\n    .dataframe tbody tr th {\n        vertical-align: top;\n    }\n\n    .dataframe thead th {\n        text-align: right;\n    }\n</style>\n<table border=\"1\" class=\"dataframe\">\n  <thead>\n    <tr style=\"text-align: right;\">\n      <th></th>\n      <th>ID</th>\n      <th>AGE</th>\n      <th>GENDER</th>\n      <th>EDUCATION</th>\n      <th>MARITAL_STATUS</th>\n      <th>CHILD_TOTAL</th>\n      <th>DEPENDANTS</th>\n      <th>SOCSTATUS_WORK_FL</th>\n      <th>SOCSTATUS_PENS_FL</th>\n      <th>REG_ADDRESS_PROVINCE</th>\n      <th>FACT_ADDRESS_PROVINCE</th>\n      <th>POSTAL_ADDRESS_PROVINCE</th>\n      <th>FL_PRESENCE_FL</th>\n      <th>OWN_AUTO</th>\n    </tr>\n  </thead>\n  <tbody>\n    <tr>\n      <th>0</th>\n      <td>106805103</td>\n      <td>42</td>\n      <td>1</td>\n      <td>Среднее</td>\n      <td>Не состоял в браке</td>\n      <td>1</td>\n      <td>0</td>\n      <td>1</td>\n      <td>0</td>\n      <td>Московская область</td>\n      <td>Московская область</td>\n      <td>Московская область</td>\n      <td>1</td>\n      <td>0</td>\n    </tr>\n    <tr>\n      <th>1</th>\n      <td>106809308</td>\n      <td>28</td>\n      <td>1</td>\n      <td>Среднее специальное</td>\n      <td>Состою в браке</td>\n      <td>1</td>\n      <td>1</td>\n      <td>1</td>\n      <td>0</td>\n      <td>Читинская область</td>\n      <td>Читинская область</td>\n      <td>Читинская область</td>\n      <td>0</td>\n      <td>0</td>\n    </tr>\n    <tr>\n      <th>2</th>\n      <td>106805867</td>\n      <td>64</td>\n      <td>0</td>\n      <td>Среднее специальное</td>\n      <td>Состою в браке</td>\n      <td>2</td>\n      <td>0</td>\n      <td>1</td>\n      <td>1</td>\n      <td>Иркутская область</td>\n      <td>Иркутская область</td>\n      <td>Иркутская область</td>\n      <td>0</td>\n      <td>1</td>\n    </tr>\n    <tr>\n      <th>3</th>\n      <td>106808779</td>\n      <td>54</td>\n      <td>1</td>\n      <td>Среднее специальное</td>\n      <td>Состою в браке</td>\n      <td>0</td>\n      <td>0</td>\n      <td>1</td>\n      <td>0</td>\n      <td>Новосибирская область</td>\n      <td>Новосибирская область</td>\n      <td>Новосибирская область</td>\n      <td>1</td>\n      <td>1</td>\n    </tr>\n    <tr>\n      <th>4</th>\n      <td>106814289</td>\n      <td>26</td>\n      <td>0</td>\n      <td>Среднее специальное</td>\n      <td>Состою в браке</td>\n      <td>1</td>\n      <td>1</td>\n      <td>1</td>\n      <td>0</td>\n      <td>Красноярский край</td>\n      <td>Красноярский край</td>\n      <td>Красноярский край</td>\n      <td>1</td>\n      <td>0</td>\n    </tr>\n  </tbody>\n</table>\n</div>"
     },
     "execution_count": 9,
     "metadata": {},
     "output_type": "execute_result"
    }
   ],
   "source": [
    "# вывод на экран первых 5 объектов датасета\n",
    "clients_df.head()"
   ],
   "metadata": {
    "collapsed": false,
    "ExecuteTime": {
     "end_time": "2023-12-10T17:38:27.951115Z",
     "start_time": "2023-12-10T17:38:27.891188Z"
    }
   },
   "id": "db93c127b1555d49"
  },
  {
   "cell_type": "code",
   "execution_count": 10,
   "outputs": [
    {
     "name": "stdout",
     "output_type": "stream",
     "text": [
      "<class 'pandas.core.frame.DataFrame'>\n",
      "RangeIndex: 16000 entries, 0 to 15999\n",
      "Data columns (total 14 columns):\n",
      " #   Column                   Non-Null Count  Dtype \n",
      "---  ------                   --------------  ----- \n",
      " 0   ID                       16000 non-null  int64 \n",
      " 1   AGE                      16000 non-null  int64 \n",
      " 2   GENDER                   16000 non-null  int64 \n",
      " 3   EDUCATION                16000 non-null  object\n",
      " 4   MARITAL_STATUS           16000 non-null  object\n",
      " 5   CHILD_TOTAL              16000 non-null  int64 \n",
      " 6   DEPENDANTS               16000 non-null  int64 \n",
      " 7   SOCSTATUS_WORK_FL        16000 non-null  int64 \n",
      " 8   SOCSTATUS_PENS_FL        16000 non-null  int64 \n",
      " 9   REG_ADDRESS_PROVINCE     16000 non-null  object\n",
      " 10  FACT_ADDRESS_PROVINCE    16000 non-null  object\n",
      " 11  POSTAL_ADDRESS_PROVINCE  16000 non-null  object\n",
      " 12  FL_PRESENCE_FL           16000 non-null  int64 \n",
      " 13  OWN_AUTO                 16000 non-null  int64 \n",
      "dtypes: int64(9), object(5)\n",
      "memory usage: 1.7+ MB\n"
     ]
    }
   ],
   "source": [
    "# вывод на экран общей информации о датасете\n",
    "clients_df.info()"
   ],
   "metadata": {
    "collapsed": false,
    "ExecuteTime": {
     "end_time": "2023-12-10T17:38:27.973481Z",
     "start_time": "2023-12-10T17:38:27.897828Z"
    }
   },
   "id": "24b530d1c2cc724b"
  },
  {
   "cell_type": "markdown",
   "source": [
    "- датасет не содержит пропусков\n",
    "- датасет содержит более 15223 объектов (количество объектов в датасете `target`), возможно в нем содержатся дубликаты:"
   ],
   "metadata": {
    "collapsed": false
   },
   "id": "b11eb42de9af5728"
  },
  {
   "cell_type": "code",
   "execution_count": 11,
   "outputs": [],
   "source": [
    "# проверка на дубликаты\n",
    "assert clients_df.ID.nunique() == len(clients_df)"
   ],
   "metadata": {
    "collapsed": false,
    "ExecuteTime": {
     "end_time": "2023-12-10T17:38:27.973700Z",
     "start_time": "2023-12-10T17:38:27.902136Z"
    }
   },
   "id": "e01e74d0a73a1b38"
  },
  {
   "cell_type": "markdown",
   "source": [
    "датасет не содержит дубликатов, следовательно, не все указанные в нем клиенты участвовали в маркетинговой кампании (и информация о таких клиентах не должна содержаться в объединенном датасете) "
   ],
   "metadata": {
    "collapsed": false
   },
   "id": "a323c851590de98d"
  },
  {
   "cell_type": "code",
   "execution_count": 12,
   "outputs": [
    {
     "data": {
      "text/plain": "                AGE       GENDER   CHILD_TOTAL    DEPENDANTS  \\\ncount  16000.000000  16000.00000  16000.000000  16000.000000   \nmean      40.394750      0.65325      1.097562      0.644437   \nstd       11.600365      0.47595      0.995731      0.811975   \nmin       21.000000      0.00000      0.000000      0.000000   \n25%       30.000000      0.00000      0.000000      0.000000   \n50%       39.000000      1.00000      1.000000      0.000000   \n75%       50.000000      1.00000      2.000000      1.000000   \nmax       67.000000      1.00000     10.000000      7.000000   \n\n       SOCSTATUS_WORK_FL  SOCSTATUS_PENS_FL  FL_PRESENCE_FL      OWN_AUTO  \ncount       16000.000000       16000.000000    16000.000000  16000.000000  \nmean            0.909375           0.134625        0.310188      0.116562  \nstd             0.287084           0.341333        0.462585      0.321298  \nmin             0.000000           0.000000        0.000000      0.000000  \n25%             1.000000           0.000000        0.000000      0.000000  \n50%             1.000000           0.000000        0.000000      0.000000  \n75%             1.000000           0.000000        1.000000      0.000000  \nmax             1.000000           1.000000        1.000000      2.000000  ",
      "text/html": "<div>\n<style scoped>\n    .dataframe tbody tr th:only-of-type {\n        vertical-align: middle;\n    }\n\n    .dataframe tbody tr th {\n        vertical-align: top;\n    }\n\n    .dataframe thead th {\n        text-align: right;\n    }\n</style>\n<table border=\"1\" class=\"dataframe\">\n  <thead>\n    <tr style=\"text-align: right;\">\n      <th></th>\n      <th>AGE</th>\n      <th>GENDER</th>\n      <th>CHILD_TOTAL</th>\n      <th>DEPENDANTS</th>\n      <th>SOCSTATUS_WORK_FL</th>\n      <th>SOCSTATUS_PENS_FL</th>\n      <th>FL_PRESENCE_FL</th>\n      <th>OWN_AUTO</th>\n    </tr>\n  </thead>\n  <tbody>\n    <tr>\n      <th>count</th>\n      <td>16000.000000</td>\n      <td>16000.00000</td>\n      <td>16000.000000</td>\n      <td>16000.000000</td>\n      <td>16000.000000</td>\n      <td>16000.000000</td>\n      <td>16000.000000</td>\n      <td>16000.000000</td>\n    </tr>\n    <tr>\n      <th>mean</th>\n      <td>40.394750</td>\n      <td>0.65325</td>\n      <td>1.097562</td>\n      <td>0.644437</td>\n      <td>0.909375</td>\n      <td>0.134625</td>\n      <td>0.310188</td>\n      <td>0.116562</td>\n    </tr>\n    <tr>\n      <th>std</th>\n      <td>11.600365</td>\n      <td>0.47595</td>\n      <td>0.995731</td>\n      <td>0.811975</td>\n      <td>0.287084</td>\n      <td>0.341333</td>\n      <td>0.462585</td>\n      <td>0.321298</td>\n    </tr>\n    <tr>\n      <th>min</th>\n      <td>21.000000</td>\n      <td>0.00000</td>\n      <td>0.000000</td>\n      <td>0.000000</td>\n      <td>0.000000</td>\n      <td>0.000000</td>\n      <td>0.000000</td>\n      <td>0.000000</td>\n    </tr>\n    <tr>\n      <th>25%</th>\n      <td>30.000000</td>\n      <td>0.00000</td>\n      <td>0.000000</td>\n      <td>0.000000</td>\n      <td>1.000000</td>\n      <td>0.000000</td>\n      <td>0.000000</td>\n      <td>0.000000</td>\n    </tr>\n    <tr>\n      <th>50%</th>\n      <td>39.000000</td>\n      <td>1.00000</td>\n      <td>1.000000</td>\n      <td>0.000000</td>\n      <td>1.000000</td>\n      <td>0.000000</td>\n      <td>0.000000</td>\n      <td>0.000000</td>\n    </tr>\n    <tr>\n      <th>75%</th>\n      <td>50.000000</td>\n      <td>1.00000</td>\n      <td>2.000000</td>\n      <td>1.000000</td>\n      <td>1.000000</td>\n      <td>0.000000</td>\n      <td>1.000000</td>\n      <td>0.000000</td>\n    </tr>\n    <tr>\n      <th>max</th>\n      <td>67.000000</td>\n      <td>1.00000</td>\n      <td>10.000000</td>\n      <td>7.000000</td>\n      <td>1.000000</td>\n      <td>1.000000</td>\n      <td>1.000000</td>\n      <td>2.000000</td>\n    </tr>\n  </tbody>\n</table>\n</div>"
     },
     "execution_count": 12,
     "metadata": {},
     "output_type": "execute_result"
    }
   ],
   "source": [
    "# вывод описательных статистик по признакам с числовыми значениями\n",
    "clients_df.select_dtypes(include='int').drop(columns='ID').describe()"
   ],
   "metadata": {
    "collapsed": false,
    "ExecuteTime": {
     "end_time": "2023-12-10T17:38:28.033055Z",
     "start_time": "2023-12-10T17:38:27.905750Z"
    }
   },
   "id": "c162b882bd6ef7c2"
  },
  {
   "cell_type": "markdown",
   "source": [
    "- описательные статистики не выявили аномальных значений\n",
    "- среди клиентов есть работающие пенсионеры (сумма средних значений признаков `SOCSTATUS_WORK_FL` и `SOCSTATUS_PENS_FL` больше 1)\n",
    "\n",
    "Создадим списки с ID работающих клиентов и клиентов-пенсионеров"
   ],
   "metadata": {
    "collapsed": false
   },
   "id": "12491585ce4c53cb"
  },
  {
   "cell_type": "code",
   "execution_count": 13,
   "outputs": [],
   "source": [
    "# создание списков id работающих клиентов и клиентов-пенсионеров\n",
    "work_ids = clients_df[clients_df.SOCSTATUS_WORK_FL == 1].ID\n",
    "pens_ids = clients_df[clients_df.SOCSTATUS_PENS_FL == 1].ID"
   ],
   "metadata": {
    "collapsed": false,
    "ExecuteTime": {
     "end_time": "2023-12-10T17:38:28.033219Z",
     "start_time": "2023-12-10T17:38:27.919577Z"
    }
   },
   "id": "9a0b21d2bd7cf803"
  },
  {
   "cell_type": "code",
   "execution_count": 14,
   "outputs": [
    {
     "name": "stdout",
     "output_type": "stream",
     "text": [
      "EDUCATION\n",
      "['Среднее' 'Среднее специальное' 'Высшее' 'Неполное среднее'\n",
      " 'Неоконченное высшее' 'Два и более высших образования' 'Ученая степень']\n",
      "\n",
      "MARITAL_STATUS\n",
      "['Не состоял в браке' 'Состою в браке' 'Вдовец/Вдова' 'Гражданский брак'\n",
      " 'Разведен(а)']\n",
      "\n",
      "REG_ADDRESS_PROVINCE\n",
      "['Московская область' 'Читинская область' 'Иркутская область'\n",
      " 'Новосибирская область' 'Красноярский край' 'Кабардино-Балкария'\n",
      " 'Брянская область' 'Рязанская область' 'Ростовская область' 'Карелия'\n",
      " 'Омская область' 'Бурятия' 'Воронежская область' 'Мурманская область'\n",
      " 'Ставропольский край' 'Оренбургская область' 'Краснодарский край'\n",
      " 'Тверская область' 'Хабаровский край' 'Приморский край'\n",
      " 'Тюменская область' 'Вологодская область' 'Хакасия' 'Тамбовская область'\n",
      " 'Челябинская область' 'Пермская область' 'Кемеровская область'\n",
      " 'Костромская область' 'Саратовская область' 'Ленинградская область'\n",
      " 'Архангельская область' 'Пензенская область' 'Курская область'\n",
      " 'Ивановская область' 'Чувашия' 'Амурская область' 'Курганская область'\n",
      " 'Алтайский край' 'Удмуртия' 'Татарстан' 'Тульская область'\n",
      " 'Свердловская область' 'Псковская область' 'Белгородская область' 'Коми'\n",
      " 'Орловская область' 'Волгоградская область' 'Смоленская область'\n",
      " 'Липецкая область' 'Калужская область' 'Самарская область'\n",
      " 'Санкт-Петербург' 'Калининградская область' 'Якутия'\n",
      " 'Ярославская область' 'Башкирия' 'Горный Алтай' 'Кировская область'\n",
      " 'Северная Осетия' 'Томская область' 'Владимирская область'\n",
      " 'Камчатская область' 'Москва' 'Ямало-Ненецкий АО' 'Ульяновская область'\n",
      " 'Астраханская область' 'Мордовская республика' 'Сахалинская область'\n",
      " 'Калмыкия' 'Ханты-Мансийский АО' 'Карачаево-Черкесия'\n",
      " 'Нижегородская область' 'Еврейская АО' 'Новгородская область'\n",
      " 'Марийская республика' 'Дагестан' 'Адыгея' 'Магаданская область'\n",
      " 'Агинский Бурятский АО' 'Усть-Ордынский Бурятский АО' 'Эвенкийский АО']\n",
      "\n",
      "FACT_ADDRESS_PROVINCE\n",
      "['Московская область' 'Читинская область' 'Иркутская область'\n",
      " 'Новосибирская область' 'Красноярский край' 'Кабардино-Балкария'\n",
      " 'Брянская область' 'Рязанская область' 'Ростовская область' 'Карелия'\n",
      " 'Омская область' 'Бурятия' 'Воронежская область' 'Мурманская область'\n",
      " 'Ставропольский край' 'Оренбургская область' 'Краснодарский край'\n",
      " 'Тверская область' 'Хабаровский край' 'Приморский край'\n",
      " 'Тюменская область' 'Вологодская область' 'Хакасия' 'Тамбовская область'\n",
      " 'Челябинская область' 'Пермская область' 'Кемеровская область'\n",
      " 'Костромская область' 'Саратовская область' 'Ленинградская область'\n",
      " 'Архангельская область' 'Пензенская область' 'Курская область'\n",
      " 'Ивановская область' 'Чувашия' 'Амурская область' 'Курганская область'\n",
      " 'Алтайский край' 'Удмуртия' 'Татарстан' 'Тульская область'\n",
      " 'Свердловская область' 'Псковская область' 'Белгородская область' 'Коми'\n",
      " 'Орловская область' 'Волгоградская область' 'Смоленская область'\n",
      " 'Липецкая область' 'Калужская область' 'Самарская область'\n",
      " 'Санкт-Петербург' 'Калининградская область' 'Якутия'\n",
      " 'Ярославская область' 'Башкирия' 'Горный Алтай' 'Кировская область'\n",
      " 'Северная Осетия' 'Томская область' 'Владимирская область'\n",
      " 'Камчатская область' 'Москва' 'Ямало-Ненецкий АО' 'Ульяновская область'\n",
      " 'Астраханская область' 'Мордовская республика' 'Сахалинская область'\n",
      " 'Калмыкия' 'Ханты-Мансийский АО' 'Карачаево-Черкесия'\n",
      " 'Нижегородская область' 'Еврейская АО' 'Новгородская область'\n",
      " 'Марийская республика' 'Адыгея' 'Магаданская область'\n",
      " 'Агинский Бурятский АО' 'Усть-Ордынский Бурятский АО' 'Эвенкийский АО'\n",
      " 'Дагестан']\n",
      "\n",
      "POSTAL_ADDRESS_PROVINCE\n",
      "['Московская область' 'Читинская область' 'Иркутская область'\n",
      " 'Новосибирская область' 'Красноярский край' 'Кабардино-Балкария'\n",
      " 'Брянская область' 'Рязанская область' 'Ростовская область' 'Карелия'\n",
      " 'Омская область' 'Бурятия' 'Воронежская область' 'Мурманская область'\n",
      " 'Ставропольский край' 'Оренбургская область' 'Краснодарский край'\n",
      " 'Тверская область' 'Хабаровский край' 'Приморский край'\n",
      " 'Тюменская область' 'Вологодская область' 'Хакасия' 'Тамбовская область'\n",
      " 'Челябинская область' 'Пермская область' 'Кемеровская область'\n",
      " 'Костромская область' 'Саратовская область' 'Ленинградская область'\n",
      " 'Архангельская область' 'Пензенская область' 'Курская область'\n",
      " 'Ивановская область' 'Чувашия' 'Амурская область' 'Курганская область'\n",
      " 'Алтайский край' 'Удмуртия' 'Татарстан' 'Тульская область'\n",
      " 'Свердловская область' 'Псковская область' 'Белгородская область' 'Коми'\n",
      " 'Орловская область' 'Волгоградская область' 'Смоленская область'\n",
      " 'Липецкая область' 'Калужская область' 'Самарская область'\n",
      " 'Санкт-Петербург' 'Калининградская область' 'Якутия'\n",
      " 'Ярославская область' 'Башкирия' 'Горный Алтай' 'Кировская область'\n",
      " 'Северная Осетия' 'Томская область' 'Владимирская область'\n",
      " 'Камчатская область' 'Москва' 'Ямало-Ненецкий АО' 'Ульяновская область'\n",
      " 'Астраханская область' 'Мордовская республика' 'Сахалинская область'\n",
      " 'Калмыкия' 'Ханты-Мансийский АО' 'Карачаево-Черкесия'\n",
      " 'Нижегородская область' 'Еврейская АО' 'Новгородская область'\n",
      " 'Марийская республика' 'Адыгея' 'Магаданская область'\n",
      " 'Агинский Бурятский АО' 'Усть-Ордынский Бурятский АО' 'Эвенкийский АО']\n"
     ]
    }
   ],
   "source": [
    "# по каждому признаку со значениями типа object вывод на экран уникальных значений\n",
    "for col in clients_df.select_dtypes(include='object').columns:\n",
    "    print(col)\n",
    "    print(clients_df[col].unique())\n",
    "    print()"
   ],
   "metadata": {
    "collapsed": false,
    "ExecuteTime": {
     "end_time": "2023-12-10T17:38:28.033500Z",
     "start_time": "2023-12-10T17:38:27.925220Z"
    }
   },
   "id": "c204927962876367"
  },
  {
   "cell_type": "markdown",
   "source": [
    "признаки не содержат аномальных значений"
   ],
   "metadata": {
    "collapsed": false
   },
   "id": "c78c3a935816b603"
  },
  {
   "cell_type": "code",
   "execution_count": 15,
   "outputs": [],
   "source": [
    "# переименование столбца ID в ID_CLIENT\n",
    "clients_df.rename(columns={'ID': 'ID_CLIENT'}, inplace=True)\n",
    "\n",
    "# установление столбца ID_CLIENT в качестве индекса\n",
    "clients_df.set_index(keys='ID_CLIENT', inplace=True)"
   ],
   "metadata": {
    "collapsed": false,
    "ExecuteTime": {
     "end_time": "2023-12-10T17:38:28.033592Z",
     "start_time": "2023-12-10T17:38:27.932666Z"
    }
   },
   "id": "746ac744e560553a"
  },
  {
   "cell_type": "markdown",
   "source": [
    "## work"
   ],
   "metadata": {
    "collapsed": false
   },
   "id": "6f024419b13ec476"
  },
  {
   "cell_type": "code",
   "execution_count": 16,
   "outputs": [],
   "source": [
    "# чтение датасета\n",
    "work_df = pd.read_csv(DATA_PATH + 'work.csv')"
   ],
   "metadata": {
    "collapsed": false,
    "ExecuteTime": {
     "end_time": "2023-12-10T17:38:28.033768Z",
     "start_time": "2023-12-10T17:38:27.934546Z"
    }
   },
   "id": "8da7e0a5cd306af3"
  },
  {
   "cell_type": "code",
   "execution_count": 17,
   "outputs": [
    {
     "data": {
      "text/plain": "   ID  FLAG      COMMENT\n0   1     0     работает\n1   2     1  не работает\n2   3     2  не известно",
      "text/html": "<div>\n<style scoped>\n    .dataframe tbody tr th:only-of-type {\n        vertical-align: middle;\n    }\n\n    .dataframe tbody tr th {\n        vertical-align: top;\n    }\n\n    .dataframe thead th {\n        text-align: right;\n    }\n</style>\n<table border=\"1\" class=\"dataframe\">\n  <thead>\n    <tr style=\"text-align: right;\">\n      <th></th>\n      <th>ID</th>\n      <th>FLAG</th>\n      <th>COMMENT</th>\n    </tr>\n  </thead>\n  <tbody>\n    <tr>\n      <th>0</th>\n      <td>1</td>\n      <td>0</td>\n      <td>работает</td>\n    </tr>\n    <tr>\n      <th>1</th>\n      <td>2</td>\n      <td>1</td>\n      <td>не работает</td>\n    </tr>\n    <tr>\n      <th>2</th>\n      <td>3</td>\n      <td>2</td>\n      <td>не известно</td>\n    </tr>\n  </tbody>\n</table>\n</div>"
     },
     "execution_count": 17,
     "metadata": {},
     "output_type": "execute_result"
    }
   ],
   "source": [
    "# вывод на экран первых 5 объектов датасета\n",
    "work_df.head()"
   ],
   "metadata": {
    "collapsed": false,
    "ExecuteTime": {
     "end_time": "2023-12-10T17:38:28.034041Z",
     "start_time": "2023-12-10T17:38:27.938267Z"
    }
   },
   "id": "137488502e6a65f9"
  },
  {
   "cell_type": "markdown",
   "source": [
    "значения данного датасета противоречат данным датасета `clients` и их описанию:\n",
    "- столбец `SOCSTATUS_WORK_FL` принимает только два значения (0 и 1)\n",
    "- согласно описанию к данным датасета `clients`, 1 означает, что клиент работает\n",
    "\n",
    "Адресуем данные противоречия коллегам, которые собирали данные, и не будем использовать значения датасета `work` при объединении датасетов"
   ],
   "metadata": {
    "collapsed": false
   },
   "id": "45b5ecc871a01fd"
  },
  {
   "cell_type": "markdown",
   "source": [
    "## job"
   ],
   "metadata": {
    "collapsed": false
   },
   "id": "be3720a4a55b7733"
  },
  {
   "cell_type": "code",
   "execution_count": 18,
   "outputs": [],
   "source": [
    "# чтение датасета\n",
    "job_df = pd.read_csv(DATA_PATH + 'job.csv')"
   ],
   "metadata": {
    "collapsed": false,
    "ExecuteTime": {
     "end_time": "2023-12-10T17:38:28.049731Z",
     "start_time": "2023-12-10T17:38:27.940349Z"
    }
   },
   "id": "bbcd29f3c5ab6770"
  },
  {
   "cell_type": "code",
   "execution_count": 19,
   "outputs": [
    {
     "data": {
      "text/plain": "                GEN_INDUSTRY                    GEN_TITLE  \\\n0                   Торговля                      Рабочий   \n1                   Торговля                      Рабочий   \n2  Информационные технологии                   Специалист   \n3                Образование  Руководитель среднего звена   \n4     Государственная служба                   Специалист   \n\n                         JOB_DIR  WORK_TIME  ID_CLIENT  \n0    Вспомогательный техперсонал       18.0  106804370  \n1  Участие в основ. деятельности       97.0  106804371  \n2  Участие в основ. деятельности       84.0  106804372  \n3  Участие в основ. деятельности      168.0  106804373  \n4  Участие в основ. деятельности      101.0  106804374  ",
      "text/html": "<div>\n<style scoped>\n    .dataframe tbody tr th:only-of-type {\n        vertical-align: middle;\n    }\n\n    .dataframe tbody tr th {\n        vertical-align: top;\n    }\n\n    .dataframe thead th {\n        text-align: right;\n    }\n</style>\n<table border=\"1\" class=\"dataframe\">\n  <thead>\n    <tr style=\"text-align: right;\">\n      <th></th>\n      <th>GEN_INDUSTRY</th>\n      <th>GEN_TITLE</th>\n      <th>JOB_DIR</th>\n      <th>WORK_TIME</th>\n      <th>ID_CLIENT</th>\n    </tr>\n  </thead>\n  <tbody>\n    <tr>\n      <th>0</th>\n      <td>Торговля</td>\n      <td>Рабочий</td>\n      <td>Вспомогательный техперсонал</td>\n      <td>18.0</td>\n      <td>106804370</td>\n    </tr>\n    <tr>\n      <th>1</th>\n      <td>Торговля</td>\n      <td>Рабочий</td>\n      <td>Участие в основ. деятельности</td>\n      <td>97.0</td>\n      <td>106804371</td>\n    </tr>\n    <tr>\n      <th>2</th>\n      <td>Информационные технологии</td>\n      <td>Специалист</td>\n      <td>Участие в основ. деятельности</td>\n      <td>84.0</td>\n      <td>106804372</td>\n    </tr>\n    <tr>\n      <th>3</th>\n      <td>Образование</td>\n      <td>Руководитель среднего звена</td>\n      <td>Участие в основ. деятельности</td>\n      <td>168.0</td>\n      <td>106804373</td>\n    </tr>\n    <tr>\n      <th>4</th>\n      <td>Государственная служба</td>\n      <td>Специалист</td>\n      <td>Участие в основ. деятельности</td>\n      <td>101.0</td>\n      <td>106804374</td>\n    </tr>\n  </tbody>\n</table>\n</div>"
     },
     "execution_count": 19,
     "metadata": {},
     "output_type": "execute_result"
    }
   ],
   "source": [
    "# вывод на экран первых 5 объектов датасета\n",
    "job_df.head()"
   ],
   "metadata": {
    "collapsed": false,
    "ExecuteTime": {
     "end_time": "2023-12-10T17:38:28.059767Z",
     "start_time": "2023-12-10T17:38:27.958981Z"
    }
   },
   "id": "dccff41b600dfe52"
  },
  {
   "cell_type": "code",
   "execution_count": 20,
   "outputs": [
    {
     "name": "stdout",
     "output_type": "stream",
     "text": [
      "<class 'pandas.core.frame.DataFrame'>\n",
      "RangeIndex: 15223 entries, 0 to 15222\n",
      "Data columns (total 5 columns):\n",
      " #   Column        Non-Null Count  Dtype  \n",
      "---  ------        --------------  -----  \n",
      " 0   GEN_INDUSTRY  13856 non-null  object \n",
      " 1   GEN_TITLE     13856 non-null  object \n",
      " 2   JOB_DIR       13856 non-null  object \n",
      " 3   WORK_TIME     13855 non-null  float64\n",
      " 4   ID_CLIENT     15223 non-null  int64  \n",
      "dtypes: float64(1), int64(1), object(3)\n",
      "memory usage: 594.8+ KB\n"
     ]
    }
   ],
   "source": [
    "# вывод на экран общей информации о датасете\n",
    "job_df.info()"
   ],
   "metadata": {
    "collapsed": false,
    "ExecuteTime": {
     "end_time": "2023-12-10T17:38:28.061954Z",
     "start_time": "2023-12-10T17:38:27.962185Z"
    }
   },
   "id": "fbe8a4fba8c61306"
  },
  {
   "cell_type": "markdown",
   "source": [
    "- количество объектов в датасете соответствует количеству объектов в датасете `target`\n",
    "- датасет содержит пропуски в значениях признаков"
   ],
   "metadata": {
    "collapsed": false,
    "ExecuteTime": {
     "end_time": "2023-12-06T14:39:11.842457Z",
     "start_time": "2023-12-06T14:39:03.119712Z"
    }
   },
   "id": "fb9603dcb308e658"
  },
  {
   "cell_type": "markdown",
   "source": [
    "Проверим, что датасеты `job_df` и `target_df` содержат информацию об одних и тех же клиентах:"
   ],
   "metadata": {
    "collapsed": false
   },
   "id": "f17ff4ebfe9adaf6"
  },
  {
   "cell_type": "code",
   "execution_count": 21,
   "outputs": [],
   "source": [
    "# проверка: датасеты job_df и target_df содержат информацию об одних и тех же клиентах\n",
    "assert job_df.ID_CLIENT.equals(pd.Series(target_df.index))"
   ],
   "metadata": {
    "collapsed": false,
    "ExecuteTime": {
     "end_time": "2023-12-10T17:38:28.062222Z",
     "start_time": "2023-12-10T17:38:27.968381Z"
    }
   },
   "id": "9ed730f5d2c2e4cb"
  },
  {
   "cell_type": "markdown",
   "source": [
    "Посчитаем количество пропусков:"
   ],
   "metadata": {
    "collapsed": false
   },
   "id": "f110ccde06fcf5a6"
  },
  {
   "cell_type": "code",
   "execution_count": 22,
   "outputs": [
    {
     "data": {
      "text/plain": "GEN_INDUSTRY    1367\nGEN_TITLE       1367\nJOB_DIR         1367\nWORK_TIME       1368\nID_CLIENT          0\ndtype: int64"
     },
     "execution_count": 22,
     "metadata": {},
     "output_type": "execute_result"
    }
   ],
   "source": [
    "# выаод на экран количества пропусков \n",
    "job_df.isna().sum()"
   ],
   "metadata": {
    "collapsed": false,
    "ExecuteTime": {
     "end_time": "2023-12-10T17:38:28.070591Z",
     "start_time": "2023-12-10T17:38:27.973166Z"
    }
   },
   "id": "57578bfc3cda15a"
  },
  {
   "cell_type": "markdown",
   "source": [
    "Проверим гипотезу, что пропуски в значениях признаков, связанных с работой, содержатся в данных о клиентах-пенсионерах (клиентах со значением `1` в столбце `SOCSTATUS_PENS_FL` датасета `clients_df`):"
   ],
   "metadata": {
    "collapsed": false,
    "ExecuteTime": {
     "end_time": "2023-12-06T14:39:11.842680Z",
     "start_time": "2023-12-06T14:39:03.122664Z"
    }
   },
   "id": "3118ea75997b5207"
  },
  {
   "cell_type": "code",
   "execution_count": 23,
   "outputs": [
    {
     "data": {
      "text/plain": "      GEN_INDUSTRY GEN_TITLE JOB_DIR  WORK_TIME  ID_CLIENT\n16             NaN       NaN     NaN        NaN  106804386\n29             NaN       NaN     NaN        NaN  106804399\n40             NaN       NaN     NaN        NaN  106804410\n43             NaN       NaN     NaN        NaN  106804413\n53             NaN       NaN     NaN        NaN  106804423\n...            ...       ...     ...        ...        ...\n15185          NaN       NaN     NaN        NaN  106819555\n15191          NaN       NaN     NaN        NaN  106819561\n15196          NaN       NaN     NaN        NaN  106819566\n15197          NaN       NaN     NaN        NaN  106819567\n15221          NaN       NaN     NaN        NaN  106819591\n\n[1367 rows x 5 columns]",
      "text/html": "<div>\n<style scoped>\n    .dataframe tbody tr th:only-of-type {\n        vertical-align: middle;\n    }\n\n    .dataframe tbody tr th {\n        vertical-align: top;\n    }\n\n    .dataframe thead th {\n        text-align: right;\n    }\n</style>\n<table border=\"1\" class=\"dataframe\">\n  <thead>\n    <tr style=\"text-align: right;\">\n      <th></th>\n      <th>GEN_INDUSTRY</th>\n      <th>GEN_TITLE</th>\n      <th>JOB_DIR</th>\n      <th>WORK_TIME</th>\n      <th>ID_CLIENT</th>\n    </tr>\n  </thead>\n  <tbody>\n    <tr>\n      <th>16</th>\n      <td>NaN</td>\n      <td>NaN</td>\n      <td>NaN</td>\n      <td>NaN</td>\n      <td>106804386</td>\n    </tr>\n    <tr>\n      <th>29</th>\n      <td>NaN</td>\n      <td>NaN</td>\n      <td>NaN</td>\n      <td>NaN</td>\n      <td>106804399</td>\n    </tr>\n    <tr>\n      <th>40</th>\n      <td>NaN</td>\n      <td>NaN</td>\n      <td>NaN</td>\n      <td>NaN</td>\n      <td>106804410</td>\n    </tr>\n    <tr>\n      <th>43</th>\n      <td>NaN</td>\n      <td>NaN</td>\n      <td>NaN</td>\n      <td>NaN</td>\n      <td>106804413</td>\n    </tr>\n    <tr>\n      <th>53</th>\n      <td>NaN</td>\n      <td>NaN</td>\n      <td>NaN</td>\n      <td>NaN</td>\n      <td>106804423</td>\n    </tr>\n    <tr>\n      <th>...</th>\n      <td>...</td>\n      <td>...</td>\n      <td>...</td>\n      <td>...</td>\n      <td>...</td>\n    </tr>\n    <tr>\n      <th>15185</th>\n      <td>NaN</td>\n      <td>NaN</td>\n      <td>NaN</td>\n      <td>NaN</td>\n      <td>106819555</td>\n    </tr>\n    <tr>\n      <th>15191</th>\n      <td>NaN</td>\n      <td>NaN</td>\n      <td>NaN</td>\n      <td>NaN</td>\n      <td>106819561</td>\n    </tr>\n    <tr>\n      <th>15196</th>\n      <td>NaN</td>\n      <td>NaN</td>\n      <td>NaN</td>\n      <td>NaN</td>\n      <td>106819566</td>\n    </tr>\n    <tr>\n      <th>15197</th>\n      <td>NaN</td>\n      <td>NaN</td>\n      <td>NaN</td>\n      <td>NaN</td>\n      <td>106819567</td>\n    </tr>\n    <tr>\n      <th>15221</th>\n      <td>NaN</td>\n      <td>NaN</td>\n      <td>NaN</td>\n      <td>NaN</td>\n      <td>106819591</td>\n    </tr>\n  </tbody>\n</table>\n<p>1367 rows × 5 columns</p>\n</div>"
     },
     "execution_count": 23,
     "metadata": {},
     "output_type": "execute_result"
    }
   ],
   "source": [
    "# вывод на экран объектов датасета с пропусками в значениях признака WORK_TIME,\n",
    "# чьи id принадлежат клиентам-пенсионерам\n",
    "job_df[(job_df.WORK_TIME.isna()) & (job_df.ID_CLIENT.isin(pens_ids))]"
   ],
   "metadata": {
    "collapsed": false,
    "ExecuteTime": {
     "end_time": "2023-12-10T17:38:28.071458Z",
     "start_time": "2023-12-10T17:38:27.978032Z"
    }
   },
   "id": "803614d5989ab2ee"
  },
  {
   "cell_type": "code",
   "execution_count": 24,
   "outputs": [
    {
     "data": {
      "text/plain": "       GEN_INDUSTRY   GEN_TITLE                        JOB_DIR  WORK_TIME  \\\n9847  Строительство  Специалист  Участие в основ. деятельности        NaN   \n\n      ID_CLIENT  \n9847  106814217  ",
      "text/html": "<div>\n<style scoped>\n    .dataframe tbody tr th:only-of-type {\n        vertical-align: middle;\n    }\n\n    .dataframe tbody tr th {\n        vertical-align: top;\n    }\n\n    .dataframe thead th {\n        text-align: right;\n    }\n</style>\n<table border=\"1\" class=\"dataframe\">\n  <thead>\n    <tr style=\"text-align: right;\">\n      <th></th>\n      <th>GEN_INDUSTRY</th>\n      <th>GEN_TITLE</th>\n      <th>JOB_DIR</th>\n      <th>WORK_TIME</th>\n      <th>ID_CLIENT</th>\n    </tr>\n  </thead>\n  <tbody>\n    <tr>\n      <th>9847</th>\n      <td>Строительство</td>\n      <td>Специалист</td>\n      <td>Участие в основ. деятельности</td>\n      <td>NaN</td>\n      <td>106814217</td>\n    </tr>\n  </tbody>\n</table>\n</div>"
     },
     "execution_count": 24,
     "metadata": {},
     "output_type": "execute_result"
    }
   ],
   "source": [
    "# вывод на экран объекта с пропуском в значении признака WORK_TIME и отсутствием пропуска\n",
    "# в значении GEN_INDUSTRY\n",
    "job_df[(~job_df.GEN_INDUSTRY.isna()) & (job_df.WORK_TIME.isna())]"
   ],
   "metadata": {
    "collapsed": false,
    "ExecuteTime": {
     "end_time": "2023-12-10T17:38:28.072152Z",
     "start_time": "2023-12-10T17:38:27.986915Z"
    }
   },
   "id": "4d8f68b648bc08b7"
  },
  {
   "cell_type": "markdown",
   "source": [
    "Гипотеза подтвердилась за исключением одного работающего клиента, у которого указана информация о работе, но не указана информация о рабочих часах.\n",
    "\n",
    "Для клиентов-пенсионеров заполним пропуски значением-индикатором пропуска, для работающего клиента-медианным значением."
   ],
   "metadata": {
    "collapsed": false,
    "ExecuteTime": {
     "end_time": "2023-12-06T14:39:11.843563Z",
     "start_time": "2023-12-06T14:39:03.133890Z"
    }
   },
   "id": "fb4a611be020ad9d"
  },
  {
   "cell_type": "code",
   "execution_count": 25,
   "outputs": [],
   "source": [
    "# заполнение пропусков\n",
    "job_df.loc[9847, 'WORK_TIME'] = job_df.WORK_TIME.median()\n",
    "\n",
    "job_df.fillna({\n",
    "    'GEN_INDUSTRY': 'not_applicable',\n",
    "    'GEN_TITLE': 'not_applicable',\n",
    "    'JOB_DIR': 'not_applicable',\n",
    "    'WORK_TIME': -1\n",
    "}, inplace=True)"
   ],
   "metadata": {
    "collapsed": false,
    "ExecuteTime": {
     "end_time": "2023-12-10T17:38:28.072276Z",
     "start_time": "2023-12-10T17:38:27.991648Z"
    }
   },
   "id": "b4967c9a3a765f0b"
  },
  {
   "cell_type": "code",
   "execution_count": 26,
   "outputs": [
    {
     "data": {
      "text/plain": "       WORK_TIME\ncount    15223.0\nmean       266.0\nstd      23244.0\nmin         -1.0\n25%         14.0\n50%         40.0\n75%         96.0\nmax    2867959.0",
      "text/html": "<div>\n<style scoped>\n    .dataframe tbody tr th:only-of-type {\n        vertical-align: middle;\n    }\n\n    .dataframe tbody tr th {\n        vertical-align: top;\n    }\n\n    .dataframe thead th {\n        text-align: right;\n    }\n</style>\n<table border=\"1\" class=\"dataframe\">\n  <thead>\n    <tr style=\"text-align: right;\">\n      <th></th>\n      <th>WORK_TIME</th>\n    </tr>\n  </thead>\n  <tbody>\n    <tr>\n      <th>count</th>\n      <td>15223.0</td>\n    </tr>\n    <tr>\n      <th>mean</th>\n      <td>266.0</td>\n    </tr>\n    <tr>\n      <th>std</th>\n      <td>23244.0</td>\n    </tr>\n    <tr>\n      <th>min</th>\n      <td>-1.0</td>\n    </tr>\n    <tr>\n      <th>25%</th>\n      <td>14.0</td>\n    </tr>\n    <tr>\n      <th>50%</th>\n      <td>40.0</td>\n    </tr>\n    <tr>\n      <th>75%</th>\n      <td>96.0</td>\n    </tr>\n    <tr>\n      <th>max</th>\n      <td>2867959.0</td>\n    </tr>\n  </tbody>\n</table>\n</div>"
     },
     "execution_count": 26,
     "metadata": {},
     "output_type": "execute_result"
    }
   ],
   "source": [
    "# вывод описательных статистик по признакам с числовыми значениями\n",
    "job_df.select_dtypes(include=['int', 'float']).drop(columns='ID_CLIENT').describe().round()"
   ],
   "metadata": {
    "collapsed": false,
    "ExecuteTime": {
     "end_time": "2023-12-10T17:38:28.072515Z",
     "start_time": "2023-12-10T17:38:27.997357Z"
    }
   },
   "id": "b99fd402111a0493"
  },
  {
   "cell_type": "markdown",
   "source": [
    "В значениях датасета содержатся аномальные значения — работник не может работать на последнем месте работы 238996 лет (2867959 / 12). \n",
    "\n",
    "Решим проблему с аномальными значениями после объединения датасетов"
   ],
   "metadata": {
    "collapsed": false
   },
   "id": "61e7a64a1520145a"
  },
  {
   "cell_type": "code",
   "execution_count": 27,
   "outputs": [
    {
     "name": "stdout",
     "output_type": "stream",
     "text": [
      "GEN_INDUSTRY\n",
      "['Торговля' 'Информационные технологии' 'Образование'\n",
      " 'Государственная служба' 'Другие сферы' 'Сельское хозяйство'\n",
      " 'Здравоохранение' 'Металлургия/Промышленность/Машиностроение'\n",
      " 'not_applicable' 'Коммунальное хоз-во/Дорожные службы' 'Строительство'\n",
      " 'Транспорт' 'Банк/Финансы' 'Ресторанный бизнес/Общественное питание'\n",
      " 'Страхование' 'Нефтегазовая промышленность' 'СМИ/Реклама/PR-агенства'\n",
      " 'Энергетика' 'Салоны красоты и здоровья' 'ЧОП/Детективная д-ть'\n",
      " 'Развлечения/Искусство' 'Наука' 'Химия/Парфюмерия/Фармацевтика'\n",
      " 'Сборочные производства' 'Туризм'\n",
      " 'Юридические услуги/нотариальные услуги' 'Маркетинг' 'Подбор персонала'\n",
      " 'Информационные услуги' 'Недвижимость' 'Управляющая компания' 'Логистика']\n",
      "\n",
      "GEN_TITLE\n",
      "['Рабочий' 'Специалист' 'Руководитель среднего звена'\n",
      " 'Руководитель высшего звена' 'Служащий' 'Работник сферы услуг'\n",
      " 'Высококвалифиц. специалист' 'Индивидуальный предприниматель'\n",
      " 'not_applicable' 'Военнослужащий по контракту'\n",
      " 'Руководитель низшего звена' 'Другое' 'Партнер']\n",
      "\n",
      "JOB_DIR\n",
      "['Вспомогательный техперсонал' 'Участие в основ. деятельности'\n",
      " 'Адм-хоз. и трансп. службы' 'Пр-техн. обесп. и телеком.'\n",
      " 'Служба безопасности' 'not_applicable' 'Бухгалтерия, финансы, планир.'\n",
      " 'Снабжение и сбыт' 'Кадровая служба и секретариат' 'Юридическая служба'\n",
      " 'Реклама и маркетинг']\n"
     ]
    }
   ],
   "source": [
    "# по каждому признаку со значениями типа object вывод на экран уникальных значений\n",
    "for col in job_df.select_dtypes(include='object').columns:\n",
    "    print(col)\n",
    "    print(job_df[col].unique())\n",
    "    print()"
   ],
   "metadata": {
    "collapsed": false,
    "ExecuteTime": {
     "end_time": "2023-12-10T17:38:28.079223Z",
     "start_time": "2023-12-10T17:38:28.003705Z"
    }
   },
   "id": "f146c4aca500f90a"
  },
  {
   "cell_type": "markdown",
   "source": [
    "признаки не содержат аномальных значений"
   ],
   "metadata": {
    "collapsed": false,
    "ExecuteTime": {
     "end_time": "2023-12-06T14:39:11.845188Z",
     "start_time": "2023-12-06T14:39:03.155555Z"
    }
   },
   "id": "5137dbdefe24de31"
  },
  {
   "cell_type": "code",
   "execution_count": 28,
   "outputs": [],
   "source": [
    "# установление столбца ID_CLIENT в качестве индекса\n",
    "job_df.set_index(keys='ID_CLIENT', inplace=True)"
   ],
   "metadata": {
    "collapsed": false,
    "ExecuteTime": {
     "end_time": "2023-12-10T17:38:28.079457Z",
     "start_time": "2023-12-10T17:38:28.009562Z"
    }
   },
   "id": "b8f12ef245e805be"
  },
  {
   "cell_type": "markdown",
   "source": [
    "## salary"
   ],
   "metadata": {
    "collapsed": false
   },
   "id": "2507b46350923727"
  },
  {
   "cell_type": "code",
   "execution_count": 29,
   "outputs": [],
   "source": [
    "# чтение датасета\n",
    "salary_df = pd.read_csv(DATA_PATH + 'salary.csv')"
   ],
   "metadata": {
    "collapsed": false,
    "ExecuteTime": {
     "end_time": "2023-12-10T17:38:28.079548Z",
     "start_time": "2023-12-10T17:38:28.011466Z"
    }
   },
   "id": "7e952e5b552d5321"
  },
  {
   "cell_type": "code",
   "execution_count": 30,
   "outputs": [
    {
     "data": {
      "text/plain": "            FAMILY_INCOME  PERSONAL_INCOME  ID_CLIENT\n0  от 20000 до 50000 руб.          20000.0  106809321\n1  от 20000 до 50000 руб.          14000.0  106815561\n2  от 10000 до 20000 руб.          15000.0  106811521\n3  от 20000 до 50000 руб.          20000.0  106811252\n4  от 20000 до 50000 руб.          25000.0  106808620",
      "text/html": "<div>\n<style scoped>\n    .dataframe tbody tr th:only-of-type {\n        vertical-align: middle;\n    }\n\n    .dataframe tbody tr th {\n        vertical-align: top;\n    }\n\n    .dataframe thead th {\n        text-align: right;\n    }\n</style>\n<table border=\"1\" class=\"dataframe\">\n  <thead>\n    <tr style=\"text-align: right;\">\n      <th></th>\n      <th>FAMILY_INCOME</th>\n      <th>PERSONAL_INCOME</th>\n      <th>ID_CLIENT</th>\n    </tr>\n  </thead>\n  <tbody>\n    <tr>\n      <th>0</th>\n      <td>от 20000 до 50000 руб.</td>\n      <td>20000.0</td>\n      <td>106809321</td>\n    </tr>\n    <tr>\n      <th>1</th>\n      <td>от 20000 до 50000 руб.</td>\n      <td>14000.0</td>\n      <td>106815561</td>\n    </tr>\n    <tr>\n      <th>2</th>\n      <td>от 10000 до 20000 руб.</td>\n      <td>15000.0</td>\n      <td>106811521</td>\n    </tr>\n    <tr>\n      <th>3</th>\n      <td>от 20000 до 50000 руб.</td>\n      <td>20000.0</td>\n      <td>106811252</td>\n    </tr>\n    <tr>\n      <th>4</th>\n      <td>от 20000 до 50000 руб.</td>\n      <td>25000.0</td>\n      <td>106808620</td>\n    </tr>\n  </tbody>\n</table>\n</div>"
     },
     "execution_count": 30,
     "metadata": {},
     "output_type": "execute_result"
    }
   ],
   "source": [
    "# вывод на экран первых 5 объектов датасета\n",
    "salary_df.head()"
   ],
   "metadata": {
    "collapsed": false,
    "ExecuteTime": {
     "end_time": "2023-12-10T17:38:28.079887Z",
     "start_time": "2023-12-10T17:38:28.021742Z"
    }
   },
   "id": "cba605593a2ffb49"
  },
  {
   "cell_type": "code",
   "execution_count": 31,
   "outputs": [
    {
     "name": "stdout",
     "output_type": "stream",
     "text": [
      "<class 'pandas.core.frame.DataFrame'>\n",
      "RangeIndex: 15523 entries, 0 to 15522\n",
      "Data columns (total 3 columns):\n",
      " #   Column           Non-Null Count  Dtype  \n",
      "---  ------           --------------  -----  \n",
      " 0   FAMILY_INCOME    15523 non-null  object \n",
      " 1   PERSONAL_INCOME  15523 non-null  float64\n",
      " 2   ID_CLIENT        15523 non-null  int64  \n",
      "dtypes: float64(1), int64(1), object(1)\n",
      "memory usage: 363.9+ KB\n"
     ]
    }
   ],
   "source": [
    "# вывод на экран общей информации о датасете\n",
    "salary_df.info()"
   ],
   "metadata": {
    "collapsed": false,
    "ExecuteTime": {
     "end_time": "2023-12-10T17:38:28.080025Z",
     "start_time": "2023-12-10T17:38:28.025166Z"
    }
   },
   "id": "a5d9e84596fcf08"
  },
  {
   "cell_type": "markdown",
   "source": [
    "- датасет не содержит пропусков\n",
    "- датасет содержит более 15223 объектов (количество объектов в датасете `target`), возможно в нем содержатся дубликаты:"
   ],
   "metadata": {
    "collapsed": false
   },
   "id": "17a3939344b0b4e5"
  },
  {
   "cell_type": "code",
   "execution_count": 32,
   "outputs": [],
   "source": [
    "# проверка на дубликаты\n",
    "assert salary_df.duplicated().sum()"
   ],
   "metadata": {
    "collapsed": false,
    "ExecuteTime": {
     "end_time": "2023-12-10T17:38:28.082011Z",
     "start_time": "2023-12-10T17:38:28.030147Z"
    }
   },
   "id": "cbfb4c47767d5699"
  },
  {
   "cell_type": "markdown",
   "source": [
    "Посчитаем количество дубликатов:"
   ],
   "metadata": {
    "collapsed": false
   },
   "id": "3b9cf7647997dc31"
  },
  {
   "cell_type": "code",
   "execution_count": 33,
   "outputs": [
    {
     "name": "stdout",
     "output_type": "stream",
     "text": [
      "датасет salary_df содержит 300 дубликата/ов\n"
     ]
    }
   ],
   "source": [
    "duplicates_num = salary_df.duplicated().sum()\n",
    "print(f'датасет salary_df содержит {duplicates_num} дубликата/ов')"
   ],
   "metadata": {
    "collapsed": false,
    "ExecuteTime": {
     "end_time": "2023-12-10T17:38:28.120133Z",
     "start_time": "2023-12-10T17:38:28.034213Z"
    }
   },
   "id": "ece839d1d222f3b0"
  },
  {
   "cell_type": "markdown",
   "source": [
    "Удалим дубликаты и проверим, что после этой операции датасеты `salary_df` и `target_df` содержат информацию об одних и тех же клиентах:"
   ],
   "metadata": {
    "collapsed": false
   },
   "id": "a0822383fe798d7a"
  },
  {
   "cell_type": "code",
   "execution_count": 34,
   "outputs": [],
   "source": [
    "# удаление дубликатов\n",
    "salary_df = salary_df.drop_duplicates().sort_values(by='ID_CLIENT').reset_index(drop=True)"
   ],
   "metadata": {
    "collapsed": false,
    "ExecuteTime": {
     "end_time": "2023-12-10T17:38:28.120389Z",
     "start_time": "2023-12-10T17:38:28.038013Z"
    }
   },
   "id": "18cff92867b8c435"
  },
  {
   "cell_type": "code",
   "execution_count": 35,
   "outputs": [],
   "source": [
    "# проверка: после удаления дубликатов датасеты salary_df и target_df содержат информацию об одних и тех же клиентах\n",
    "assert salary_df.ID_CLIENT.equals(pd.Series(target_df.index))"
   ],
   "metadata": {
    "collapsed": false,
    "ExecuteTime": {
     "end_time": "2023-12-10T17:38:28.120551Z",
     "start_time": "2023-12-10T17:38:28.042991Z"
    }
   },
   "id": "c0954dd5cc84c26a"
  },
  {
   "cell_type": "code",
   "execution_count": 36,
   "outputs": [
    {
     "data": {
      "text/plain": "       PERSONAL_INCOME\ncount          15223.0\nmean           13854.0\nstd             9015.0\nmin               24.0\n25%             8000.0\n50%            12000.0\n75%            17000.0\nmax           250000.0",
      "text/html": "<div>\n<style scoped>\n    .dataframe tbody tr th:only-of-type {\n        vertical-align: middle;\n    }\n\n    .dataframe tbody tr th {\n        vertical-align: top;\n    }\n\n    .dataframe thead th {\n        text-align: right;\n    }\n</style>\n<table border=\"1\" class=\"dataframe\">\n  <thead>\n    <tr style=\"text-align: right;\">\n      <th></th>\n      <th>PERSONAL_INCOME</th>\n    </tr>\n  </thead>\n  <tbody>\n    <tr>\n      <th>count</th>\n      <td>15223.0</td>\n    </tr>\n    <tr>\n      <th>mean</th>\n      <td>13854.0</td>\n    </tr>\n    <tr>\n      <th>std</th>\n      <td>9015.0</td>\n    </tr>\n    <tr>\n      <th>min</th>\n      <td>24.0</td>\n    </tr>\n    <tr>\n      <th>25%</th>\n      <td>8000.0</td>\n    </tr>\n    <tr>\n      <th>50%</th>\n      <td>12000.0</td>\n    </tr>\n    <tr>\n      <th>75%</th>\n      <td>17000.0</td>\n    </tr>\n    <tr>\n      <th>max</th>\n      <td>250000.0</td>\n    </tr>\n  </tbody>\n</table>\n</div>"
     },
     "execution_count": 36,
     "metadata": {},
     "output_type": "execute_result"
    }
   ],
   "source": [
    "# вывод описательных статистик по признакам с числовыми значениями\n",
    "salary_df.select_dtypes(include=['float']).describe().round()"
   ],
   "metadata": {
    "collapsed": false,
    "ExecuteTime": {
     "end_time": "2023-12-10T17:38:28.122853Z",
     "start_time": "2023-12-10T17:38:28.046002Z"
    }
   },
   "id": "ccdab1b99f7578e0"
  },
  {
   "cell_type": "markdown",
   "source": [
    "доход 24 рубля выглядит аномально низким; посмотрим на 5 объектов с наименьшим и с наибольшим доходом:"
   ],
   "metadata": {
    "collapsed": false
   },
   "id": "422c6c17414e5b2c"
  },
  {
   "cell_type": "code",
   "execution_count": 37,
   "outputs": [
    {
     "data": {
      "text/plain": "                FAMILY_INCOME  PERSONAL_INCOME  ID_CLIENT\n3491   от 20000 до 50000 руб.             24.0  106807861\n9091             до 5000 руб.           1950.0  106813461\n9842   от 10000 до 20000 руб.           2000.0  106814212\n4081   от 10000 до 20000 руб.           2000.0  106808451\n5222   от 10000 до 20000 руб.           2100.0  106809592\n11374  от 20000 до 50000 руб.         160000.0  106815744\n144    от 20000 до 50000 руб.         170000.0  106804514\n6276   от 20000 до 50000 руб.         220000.0  106810646\n2726   от 20000 до 50000 руб.         250000.0  106807096\n7273   от 20000 до 50000 руб.         250000.0  106811643",
      "text/html": "<div>\n<style scoped>\n    .dataframe tbody tr th:only-of-type {\n        vertical-align: middle;\n    }\n\n    .dataframe tbody tr th {\n        vertical-align: top;\n    }\n\n    .dataframe thead th {\n        text-align: right;\n    }\n</style>\n<table border=\"1\" class=\"dataframe\">\n  <thead>\n    <tr style=\"text-align: right;\">\n      <th></th>\n      <th>FAMILY_INCOME</th>\n      <th>PERSONAL_INCOME</th>\n      <th>ID_CLIENT</th>\n    </tr>\n  </thead>\n  <tbody>\n    <tr>\n      <th>3491</th>\n      <td>от 20000 до 50000 руб.</td>\n      <td>24.0</td>\n      <td>106807861</td>\n    </tr>\n    <tr>\n      <th>9091</th>\n      <td>до 5000 руб.</td>\n      <td>1950.0</td>\n      <td>106813461</td>\n    </tr>\n    <tr>\n      <th>9842</th>\n      <td>от 10000 до 20000 руб.</td>\n      <td>2000.0</td>\n      <td>106814212</td>\n    </tr>\n    <tr>\n      <th>4081</th>\n      <td>от 10000 до 20000 руб.</td>\n      <td>2000.0</td>\n      <td>106808451</td>\n    </tr>\n    <tr>\n      <th>5222</th>\n      <td>от 10000 до 20000 руб.</td>\n      <td>2100.0</td>\n      <td>106809592</td>\n    </tr>\n    <tr>\n      <th>11374</th>\n      <td>от 20000 до 50000 руб.</td>\n      <td>160000.0</td>\n      <td>106815744</td>\n    </tr>\n    <tr>\n      <th>144</th>\n      <td>от 20000 до 50000 руб.</td>\n      <td>170000.0</td>\n      <td>106804514</td>\n    </tr>\n    <tr>\n      <th>6276</th>\n      <td>от 20000 до 50000 руб.</td>\n      <td>220000.0</td>\n      <td>106810646</td>\n    </tr>\n    <tr>\n      <th>2726</th>\n      <td>от 20000 до 50000 руб.</td>\n      <td>250000.0</td>\n      <td>106807096</td>\n    </tr>\n    <tr>\n      <th>7273</th>\n      <td>от 20000 до 50000 руб.</td>\n      <td>250000.0</td>\n      <td>106811643</td>\n    </tr>\n  </tbody>\n</table>\n</div>"
     },
     "execution_count": 37,
     "metadata": {},
     "output_type": "execute_result"
    }
   ],
   "source": [
    "# вывод на экран 5 объектов с наименьшим и наибольшим доходом\n",
    "pd.concat([\n",
    "    salary_df.sort_values(by='PERSONAL_INCOME').head(),\n",
    "    salary_df.sort_values(by='PERSONAL_INCOME').tail()\n",
    "])"
   ],
   "metadata": {
    "collapsed": false,
    "ExecuteTime": {
     "end_time": "2023-12-10T17:38:28.386022Z",
     "start_time": "2023-12-10T17:38:28.056143Z"
    }
   },
   "id": "97b1969d5d5fa12b"
  },
  {
   "cell_type": "markdown",
   "source": [
    "- возможная причина аномального значения 24 — три пропущенные нули: согласно значению признака `FAMILY_INCOME`, доход данного клиента должен быть в диапазоне от 20 до 50 тысяч рублей; при этом мы не можем однозначно сказать, должен ли быть доход этого клиента равен 2400 и 24000 рублей; в отстутсиве информации заменим значение медианой\n",
    "- мы видим, что доходы клиентов с наибольшим доходом выше их семейного дохода, но мы не можем однозначно определить, была ли допущена ошибка в значении признака `PERSONAL_INCOME` (лишние нули) или в значении признака `FAMILY_INCOME` (ошибочно выбранная категория семейного дохода) или семейный доход не учитывает персональный"
   ],
   "metadata": {
    "collapsed": false
   },
   "id": "7a9848834a3e9bee"
  },
  {
   "cell_type": "code",
   "execution_count": 38,
   "outputs": [],
   "source": [
    "# замена аномального значения медианой\n",
    "salary_df.loc[3491, 'PERSONAL_INCOME'] = salary_df['PERSONAL_INCOME'].median()"
   ],
   "metadata": {
    "collapsed": false,
    "ExecuteTime": {
     "end_time": "2023-12-10T17:38:28.388100Z",
     "start_time": "2023-12-10T17:38:28.062809Z"
    }
   },
   "id": "1f5c745859d722be"
  },
  {
   "cell_type": "code",
   "execution_count": 39,
   "outputs": [
    {
     "name": "stdout",
     "output_type": "stream",
     "text": [
      "FAMILY_INCOME\n",
      "['от 10000 до 20000 руб.' 'от 20000 до 50000 руб.' 'свыше 50000 руб.'\n",
      " 'от 5000 до 10000 руб.' 'до 5000 руб.']\n"
     ]
    }
   ],
   "source": [
    "# по каждому признаку со значениями типа object вывод на экран уникальных значений\n",
    "for col in salary_df.select_dtypes(include='object').columns:\n",
    "    print(col)\n",
    "    print(salary_df[col].unique())\n",
    "    print()"
   ],
   "metadata": {
    "collapsed": false,
    "ExecuteTime": {
     "end_time": "2023-12-10T17:38:28.388297Z",
     "start_time": "2023-12-10T17:38:28.065890Z"
    }
   },
   "id": "6eee2fc479381419"
  },
  {
   "cell_type": "markdown",
   "source": [
    "признак `FAMILY_INCOME` не содержит аномальных значений"
   ],
   "metadata": {
    "collapsed": false
   },
   "id": "948489eeba78d1c"
  },
  {
   "cell_type": "code",
   "execution_count": 40,
   "outputs": [],
   "source": [
    "# установление столбца ID_CLIENT в качестве индекса\n",
    "salary_df.set_index(keys='ID_CLIENT', inplace=True)"
   ],
   "metadata": {
    "collapsed": false,
    "ExecuteTime": {
     "end_time": "2023-12-10T17:38:28.389981Z",
     "start_time": "2023-12-10T17:38:28.068900Z"
    }
   },
   "id": "982833f1bee02077"
  },
  {
   "cell_type": "markdown",
   "source": [
    "##  pens"
   ],
   "metadata": {
    "collapsed": false,
    "ExecuteTime": {
     "end_time": "2023-12-06T14:39:11.846051Z",
     "start_time": "2023-12-06T14:39:03.179202Z"
    }
   },
   "id": "212c53a9919db710"
  },
  {
   "cell_type": "code",
   "execution_count": 41,
   "outputs": [],
   "source": [
    "# чтение датасета\n",
    "pens_df = pd.read_csv(DATA_PATH + 'pens.csv')"
   ],
   "metadata": {
    "collapsed": false,
    "ExecuteTime": {
     "end_time": "2023-12-10T17:38:28.412121Z",
     "start_time": "2023-12-10T17:38:28.071080Z"
    }
   },
   "id": "23103ef58cadbcb6"
  },
  {
   "cell_type": "code",
   "execution_count": 42,
   "outputs": [
    {
     "data": {
      "text/plain": "   ID  FLAG       COMMENT\n0   1     0     пенсионер\n1   2     1  не пенсионер",
      "text/html": "<div>\n<style scoped>\n    .dataframe tbody tr th:only-of-type {\n        vertical-align: middle;\n    }\n\n    .dataframe tbody tr th {\n        vertical-align: top;\n    }\n\n    .dataframe thead th {\n        text-align: right;\n    }\n</style>\n<table border=\"1\" class=\"dataframe\">\n  <thead>\n    <tr style=\"text-align: right;\">\n      <th></th>\n      <th>ID</th>\n      <th>FLAG</th>\n      <th>COMMENT</th>\n    </tr>\n  </thead>\n  <tbody>\n    <tr>\n      <th>0</th>\n      <td>1</td>\n      <td>0</td>\n      <td>пенсионер</td>\n    </tr>\n    <tr>\n      <th>1</th>\n      <td>2</td>\n      <td>1</td>\n      <td>не пенсионер</td>\n    </tr>\n  </tbody>\n</table>\n</div>"
     },
     "execution_count": 42,
     "metadata": {},
     "output_type": "execute_result"
    }
   ],
   "source": [
    "# вывод на экран первых 5 объектов датасета\n",
    "pens_df.head()"
   ],
   "metadata": {
    "collapsed": false,
    "ExecuteTime": {
     "end_time": "2023-12-10T17:38:28.428895Z",
     "start_time": "2023-12-10T17:38:28.075930Z"
    }
   },
   "id": "c05a911e20f431b8"
  },
  {
   "cell_type": "markdown",
   "source": [
    "значения данного датасета противоречат данным датасета `clients` и их описанию: согласно описанию к данным датасета `clients`, 1 в столбце `SOCSTATUS_PENS_FL`означает, что клиент — пенсионер\n",
    "\n",
    "Адресуем данные противоречия коллегам, которые собирали данные, и не будем использовать значения датасета `pens` при объединении датасетов"
   ],
   "metadata": {
    "collapsed": false,
    "ExecuteTime": {
     "end_time": "2023-12-06T14:39:11.846839Z",
     "start_time": "2023-12-06T14:39:03.185078Z"
    }
   },
   "id": "73b7bc7c3f159bf1"
  },
  {
   "cell_type": "markdown",
   "source": [
    "## loan и loan_close"
   ],
   "metadata": {
    "collapsed": false
   },
   "id": "de4a8199e5f18dcb"
  },
  {
   "cell_type": "code",
   "execution_count": 43,
   "outputs": [],
   "source": [
    "# чтение датасетов\n",
    "loan_df = pd.read_csv('datasets/loan.csv')\n",
    "close_loan_df = pd.read_csv('datasets/close_loan.csv')"
   ],
   "metadata": {
    "collapsed": false,
    "ExecuteTime": {
     "end_time": "2023-12-10T17:38:28.468009Z",
     "start_time": "2023-12-10T17:38:28.078898Z"
    }
   },
   "id": "16f57d986e2ee912"
  },
  {
   "cell_type": "code",
   "execution_count": 44,
   "outputs": [],
   "source": [
    "# создание списка с названиями датасетов, связанные с займами\n",
    "loan_df_names = ['loan', 'close_loan']"
   ],
   "metadata": {
    "collapsed": false,
    "ExecuteTime": {
     "end_time": "2023-12-10T17:38:28.468221Z",
     "start_time": "2023-12-10T17:38:28.087986Z"
    }
   },
   "id": "bd1ff9729d6637e"
  },
  {
   "cell_type": "code",
   "execution_count": 45,
   "outputs": [
    {
     "name": "stdout",
     "output_type": "stream",
     "text": [
      "loan\n"
     ]
    },
    {
     "data": {
      "text/plain": "      ID_LOAN  ID_CLIENT\n0  1753790658  106804370\n1  1753790659  106804371\n2  1753790660  106804372\n3  1753790661  106804372\n4  1753790662  106804373",
      "text/html": "<div>\n<style scoped>\n    .dataframe tbody tr th:only-of-type {\n        vertical-align: middle;\n    }\n\n    .dataframe tbody tr th {\n        vertical-align: top;\n    }\n\n    .dataframe thead th {\n        text-align: right;\n    }\n</style>\n<table border=\"1\" class=\"dataframe\">\n  <thead>\n    <tr style=\"text-align: right;\">\n      <th></th>\n      <th>ID_LOAN</th>\n      <th>ID_CLIENT</th>\n    </tr>\n  </thead>\n  <tbody>\n    <tr>\n      <th>0</th>\n      <td>1753790658</td>\n      <td>106804370</td>\n    </tr>\n    <tr>\n      <th>1</th>\n      <td>1753790659</td>\n      <td>106804371</td>\n    </tr>\n    <tr>\n      <th>2</th>\n      <td>1753790660</td>\n      <td>106804372</td>\n    </tr>\n    <tr>\n      <th>3</th>\n      <td>1753790661</td>\n      <td>106804372</td>\n    </tr>\n    <tr>\n      <th>4</th>\n      <td>1753790662</td>\n      <td>106804373</td>\n    </tr>\n  </tbody>\n</table>\n</div>"
     },
     "metadata": {},
     "output_type": "display_data"
    },
    {
     "name": "stdout",
     "output_type": "stream",
     "text": [
      "\n",
      "close_loan\n"
     ]
    },
    {
     "data": {
      "text/plain": "      ID_LOAN  CLOSED_FL\n0  1753790658          1\n1  1753790659          1\n2  1753790660          1\n3  1753790661          0\n4  1753790662          1",
      "text/html": "<div>\n<style scoped>\n    .dataframe tbody tr th:only-of-type {\n        vertical-align: middle;\n    }\n\n    .dataframe tbody tr th {\n        vertical-align: top;\n    }\n\n    .dataframe thead th {\n        text-align: right;\n    }\n</style>\n<table border=\"1\" class=\"dataframe\">\n  <thead>\n    <tr style=\"text-align: right;\">\n      <th></th>\n      <th>ID_LOAN</th>\n      <th>CLOSED_FL</th>\n    </tr>\n  </thead>\n  <tbody>\n    <tr>\n      <th>0</th>\n      <td>1753790658</td>\n      <td>1</td>\n    </tr>\n    <tr>\n      <th>1</th>\n      <td>1753790659</td>\n      <td>1</td>\n    </tr>\n    <tr>\n      <th>2</th>\n      <td>1753790660</td>\n      <td>1</td>\n    </tr>\n    <tr>\n      <th>3</th>\n      <td>1753790661</td>\n      <td>0</td>\n    </tr>\n    <tr>\n      <th>4</th>\n      <td>1753790662</td>\n      <td>1</td>\n    </tr>\n  </tbody>\n</table>\n</div>"
     },
     "metadata": {},
     "output_type": "display_data"
    },
    {
     "name": "stdout",
     "output_type": "stream",
     "text": []
    }
   ],
   "source": [
    "# вывод на экран первых 5 объектов каждого датасета\n",
    "for df_name, df in zip(loan_df_names, [loan_df, close_loan_df]):\n",
    "    print(df_name)\n",
    "    display(df.head())\n",
    "    print()"
   ],
   "metadata": {
    "collapsed": false,
    "ExecuteTime": {
     "end_time": "2023-12-10T17:38:28.470567Z",
     "start_time": "2023-12-10T17:38:28.092176Z"
    }
   },
   "id": "b773f05d8a23349b"
  },
  {
   "cell_type": "code",
   "execution_count": 46,
   "outputs": [
    {
     "name": "stdout",
     "output_type": "stream",
     "text": [
      "loan\n",
      "<class 'pandas.core.frame.DataFrame'>\n",
      "RangeIndex: 21126 entries, 0 to 21125\n",
      "Data columns (total 2 columns):\n",
      " #   Column     Non-Null Count  Dtype\n",
      "---  ------     --------------  -----\n",
      " 0   ID_LOAN    21126 non-null  int64\n",
      " 1   ID_CLIENT  21126 non-null  int64\n",
      "dtypes: int64(2)\n",
      "memory usage: 330.2 KB\n"
     ]
    },
    {
     "data": {
      "text/plain": "None"
     },
     "metadata": {},
     "output_type": "display_data"
    },
    {
     "name": "stdout",
     "output_type": "stream",
     "text": [
      "\n",
      "close_loan\n",
      "<class 'pandas.core.frame.DataFrame'>\n",
      "RangeIndex: 21126 entries, 0 to 21125\n",
      "Data columns (total 2 columns):\n",
      " #   Column     Non-Null Count  Dtype\n",
      "---  ------     --------------  -----\n",
      " 0   ID_LOAN    21126 non-null  int64\n",
      " 1   ID_CLIENT  21126 non-null  int64\n",
      "dtypes: int64(2)\n",
      "memory usage: 330.2 KB\n"
     ]
    },
    {
     "data": {
      "text/plain": "None"
     },
     "metadata": {},
     "output_type": "display_data"
    },
    {
     "name": "stdout",
     "output_type": "stream",
     "text": []
    }
   ],
   "source": [
    "# вывод на экран общей информации о каждом датасете\n",
    "for df_name, df in zip(loan_df_names, [loan_df, close_loan_df]):\n",
    "    print(df_name)\n",
    "    display(loan_df.info())\n",
    "    print()"
   ],
   "metadata": {
    "collapsed": false,
    "ExecuteTime": {
     "end_time": "2023-12-10T17:38:28.518747Z",
     "start_time": "2023-12-10T17:38:28.097695Z"
    }
   },
   "id": "a0afa203850e66a9"
  },
  {
   "cell_type": "markdown",
   "source": [
    "датасеты содержат более 15223 объектов (количество объектов в датасете `target`), возможно в нем содержатся дубликаты:"
   ],
   "metadata": {
    "collapsed": false
   },
   "id": "c0d416a138a5f9d1"
  },
  {
   "cell_type": "code",
   "execution_count": 47,
   "outputs": [],
   "source": [
    "# проверка: в датасетах нет дубликатов\n",
    "assert loan_df.duplicated().sum() == 0\n",
    "assert close_loan_df.duplicated().sum() == 0\n",
    "# проверка: количество уникальных клиентов в датасете loan равно количеству клиентов в датасете target и количество уникальных займов в датасете loan равно количеству уникальных займов в датасете close_loan\n",
    "assert loan_df.ID_CLIENT.nunique() == len(target_df) and loan_df.ID_LOAN.nunique() == close_loan_df.ID_LOAN.nunique()"
   ],
   "metadata": {
    "collapsed": false,
    "ExecuteTime": {
     "end_time": "2023-12-10T17:38:28.518928Z",
     "start_time": "2023-12-10T17:38:28.102193Z"
    }
   },
   "id": "1513178d205564f0"
  },
  {
   "cell_type": "markdown",
   "source": [
    "На основании проверок выше мы можем сделать вывод, что у отдельных клиентов более одного займа. Для создания объединенного датасета аггрегируем данные:"
   ],
   "metadata": {
    "collapsed": false
   },
   "id": "50dd4002bdd3cbfd"
  },
  {
   "cell_type": "code",
   "execution_count": 48,
   "outputs": [],
   "source": [
    "# аггрегирование данных по займам в новый датафрейм loan_agg_df\n",
    "loan_agg_df = (loan_df.set_index('ID_LOAN').join(close_loan_df.set_index('ID_LOAN')))\n",
    "loan_agg_df.reset_index(inplace=True)\n",
    "loan_agg_df = loan_agg_df.groupby('ID_CLIENT')['CLOSED_FL'].agg(['count', 'sum'])\n",
    "loan_agg_df.rename(columns={\n",
    "    'count': 'LOAN_NUM_TOTAL',\n",
    "    'sum': 'LOAN_NUM_CLOSED'    \n",
    "}, inplace=True)"
   ],
   "metadata": {
    "collapsed": false,
    "ExecuteTime": {
     "end_time": "2023-12-10T17:38:28.518991Z",
     "start_time": "2023-12-10T17:38:28.108315Z"
    }
   },
   "id": "e9c93175cb8da863"
  },
  {
   "cell_type": "markdown",
   "source": [
    "## last_credit"
   ],
   "metadata": {
    "collapsed": false
   },
   "id": "63bba2837fb992f0"
  },
  {
   "cell_type": "code",
   "execution_count": 49,
   "outputs": [],
   "source": [
    "# чтение датасета\n",
    "last_credit_df = pd.read_csv(DATA_PATH + 'last_credit.csv')"
   ],
   "metadata": {
    "collapsed": false,
    "ExecuteTime": {
     "end_time": "2023-12-10T17:38:28.519045Z",
     "start_time": "2023-12-10T17:38:28.113719Z"
    }
   },
   "id": "540e24e6bb6f2ee"
  },
  {
   "cell_type": "code",
   "execution_count": 50,
   "outputs": [
    {
     "data": {
      "text/plain": "     CREDIT  TERM  FST_PAYMENT  ID_CLIENT\n0   8000.00     6       8650.0  106804370\n1  21650.00     6       4000.0  106804371\n2  33126.00    12       4000.0  106804372\n3   8491.82     6       5000.0  106804373\n4  21990.00    12       4000.0  106804374",
      "text/html": "<div>\n<style scoped>\n    .dataframe tbody tr th:only-of-type {\n        vertical-align: middle;\n    }\n\n    .dataframe tbody tr th {\n        vertical-align: top;\n    }\n\n    .dataframe thead th {\n        text-align: right;\n    }\n</style>\n<table border=\"1\" class=\"dataframe\">\n  <thead>\n    <tr style=\"text-align: right;\">\n      <th></th>\n      <th>CREDIT</th>\n      <th>TERM</th>\n      <th>FST_PAYMENT</th>\n      <th>ID_CLIENT</th>\n    </tr>\n  </thead>\n  <tbody>\n    <tr>\n      <th>0</th>\n      <td>8000.00</td>\n      <td>6</td>\n      <td>8650.0</td>\n      <td>106804370</td>\n    </tr>\n    <tr>\n      <th>1</th>\n      <td>21650.00</td>\n      <td>6</td>\n      <td>4000.0</td>\n      <td>106804371</td>\n    </tr>\n    <tr>\n      <th>2</th>\n      <td>33126.00</td>\n      <td>12</td>\n      <td>4000.0</td>\n      <td>106804372</td>\n    </tr>\n    <tr>\n      <th>3</th>\n      <td>8491.82</td>\n      <td>6</td>\n      <td>5000.0</td>\n      <td>106804373</td>\n    </tr>\n    <tr>\n      <th>4</th>\n      <td>21990.00</td>\n      <td>12</td>\n      <td>4000.0</td>\n      <td>106804374</td>\n    </tr>\n  </tbody>\n</table>\n</div>"
     },
     "execution_count": 50,
     "metadata": {},
     "output_type": "execute_result"
    }
   ],
   "source": [
    "# вывод на экран первых 5 объектов датасета\n",
    "last_credit_df.head()"
   ],
   "metadata": {
    "collapsed": false,
    "ExecuteTime": {
     "end_time": "2023-12-10T17:38:28.533113Z",
     "start_time": "2023-12-10T17:38:28.121635Z"
    }
   },
   "id": "5060b58805f5d3be"
  },
  {
   "cell_type": "code",
   "execution_count": 51,
   "outputs": [
    {
     "name": "stdout",
     "output_type": "stream",
     "text": [
      "<class 'pandas.core.frame.DataFrame'>\n",
      "RangeIndex: 15223 entries, 0 to 15222\n",
      "Data columns (total 4 columns):\n",
      " #   Column       Non-Null Count  Dtype  \n",
      "---  ------       --------------  -----  \n",
      " 0   CREDIT       15223 non-null  float64\n",
      " 1   TERM         15223 non-null  int64  \n",
      " 2   FST_PAYMENT  15223 non-null  float64\n",
      " 3   ID_CLIENT    15223 non-null  int64  \n",
      "dtypes: float64(2), int64(2)\n",
      "memory usage: 475.8 KB\n"
     ]
    }
   ],
   "source": [
    "# вывод на экран общей информации о датасете\n",
    "last_credit_df.info()"
   ],
   "metadata": {
    "collapsed": false,
    "ExecuteTime": {
     "end_time": "2023-12-10T17:38:28.533367Z",
     "start_time": "2023-12-10T17:38:28.124377Z"
    }
   },
   "id": "3ebd90c3f0e156d3"
  },
  {
   "cell_type": "markdown",
   "source": [
    "- датасет не содержит пропусков\n",
    "- количество объектов в датасете соответствует количеству объектов в датасете `target`; проверим, что датасеты содержат информацию об одних и тех же клиентах:"
   ],
   "metadata": {
    "collapsed": false
   },
   "id": "56206feef866853f"
  },
  {
   "cell_type": "code",
   "execution_count": 52,
   "outputs": [],
   "source": [
    "# проверка\n",
    "assert last_credit_df.ID_CLIENT.equals(pd.Series(target_df.index))"
   ],
   "metadata": {
    "collapsed": false,
    "ExecuteTime": {
     "end_time": "2023-12-10T17:38:28.544257Z",
     "start_time": "2023-12-10T17:38:28.129663Z"
    }
   },
   "id": "20935af6c3ca5d74"
  },
  {
   "cell_type": "markdown",
   "source": [
    "проверка выше также показала, что датасет не содержит дубликатов"
   ],
   "metadata": {
    "collapsed": false
   },
   "id": "821ffc42e996bbf4"
  },
  {
   "cell_type": "code",
   "execution_count": 53,
   "outputs": [
    {
     "data": {
      "text/plain": "              CREDIT          TERM    FST_PAYMENT\ncount   15223.000000  15223.000000   15223.000000\nmean    14667.959345      8.101031    3398.562655\nstd     12147.873496      4.094090    5158.108934\nmin      2000.000000      3.000000       0.000000\n25%      6500.000000      6.000000    1000.000000\n50%     11550.000000      6.000000    2000.000000\n75%     19170.000000     10.000000    4000.000000\nmax    119700.000000     36.000000  140000.000000",
      "text/html": "<div>\n<style scoped>\n    .dataframe tbody tr th:only-of-type {\n        vertical-align: middle;\n    }\n\n    .dataframe tbody tr th {\n        vertical-align: top;\n    }\n\n    .dataframe thead th {\n        text-align: right;\n    }\n</style>\n<table border=\"1\" class=\"dataframe\">\n  <thead>\n    <tr style=\"text-align: right;\">\n      <th></th>\n      <th>CREDIT</th>\n      <th>TERM</th>\n      <th>FST_PAYMENT</th>\n    </tr>\n  </thead>\n  <tbody>\n    <tr>\n      <th>count</th>\n      <td>15223.000000</td>\n      <td>15223.000000</td>\n      <td>15223.000000</td>\n    </tr>\n    <tr>\n      <th>mean</th>\n      <td>14667.959345</td>\n      <td>8.101031</td>\n      <td>3398.562655</td>\n    </tr>\n    <tr>\n      <th>std</th>\n      <td>12147.873496</td>\n      <td>4.094090</td>\n      <td>5158.108934</td>\n    </tr>\n    <tr>\n      <th>min</th>\n      <td>2000.000000</td>\n      <td>3.000000</td>\n      <td>0.000000</td>\n    </tr>\n    <tr>\n      <th>25%</th>\n      <td>6500.000000</td>\n      <td>6.000000</td>\n      <td>1000.000000</td>\n    </tr>\n    <tr>\n      <th>50%</th>\n      <td>11550.000000</td>\n      <td>6.000000</td>\n      <td>2000.000000</td>\n    </tr>\n    <tr>\n      <th>75%</th>\n      <td>19170.000000</td>\n      <td>10.000000</td>\n      <td>4000.000000</td>\n    </tr>\n    <tr>\n      <th>max</th>\n      <td>119700.000000</td>\n      <td>36.000000</td>\n      <td>140000.000000</td>\n    </tr>\n  </tbody>\n</table>\n</div>"
     },
     "execution_count": 53,
     "metadata": {},
     "output_type": "execute_result"
    }
   ],
   "source": [
    "last_credit_df.drop(columns='ID_CLIENT').describe()"
   ],
   "metadata": {
    "collapsed": false,
    "ExecuteTime": {
     "end_time": "2023-12-10T17:38:28.550533Z",
     "start_time": "2023-12-10T17:38:28.132894Z"
    }
   },
   "id": "96935d6aba3db228"
  },
  {
   "cell_type": "markdown",
   "source": [
    "признаки не содержат аномальных значений"
   ],
   "metadata": {
    "collapsed": false
   },
   "id": "4a3d2d261a2b035f"
  },
  {
   "cell_type": "code",
   "execution_count": 54,
   "outputs": [],
   "source": [
    "# установление столбца ID_CLIENT в качестве индекса\n",
    "last_credit_df.set_index(keys='ID_CLIENT', inplace=True)"
   ],
   "metadata": {
    "collapsed": false,
    "ExecuteTime": {
     "end_time": "2023-12-10T17:38:28.550736Z",
     "start_time": "2023-12-10T17:38:28.140480Z"
    }
   },
   "id": "50b849141402ac0a"
  },
  {
   "cell_type": "markdown",
   "source": [
    "# Объединение датасетов и сохранение объединенного датасета"
   ],
   "metadata": {
    "collapsed": false
   },
   "id": "65b9035f079416f1"
  },
  {
   "cell_type": "markdown",
   "source": [
    "Объединим датасеты `target`, `clients`, `job`, `salary`, `last_credit` и аггрегированные датасеты `loan`, `close_loan`. \n",
    "\n",
    "Будем объединять датасеты по id клиентов таким образом, чтобы в объединенном датасете содержалась информация только о клиентах из датасета `target`:"
   ],
   "metadata": {
    "collapsed": false
   },
   "id": "76354d3af1d71180"
  },
  {
   "cell_type": "code",
   "execution_count": 55,
   "outputs": [],
   "source": [
    "# объединение датасетов\n",
    "data_full = target_df.join([\n",
    "    clients_df,\n",
    "    job_df,\n",
    "    salary_df,\n",
    "    loan_agg_df,\n",
    "    last_credit_df\n",
    "])\n",
    "\n",
    "# сброс индекса\n",
    "data_full.reset_index(inplace=True)"
   ],
   "metadata": {
    "collapsed": false,
    "ExecuteTime": {
     "end_time": "2023-12-10T17:38:28.550821Z",
     "start_time": "2023-12-10T17:38:28.143308Z"
    }
   },
   "id": "28751c8589a88a97"
  },
  {
   "cell_type": "markdown",
   "source": [
    "Вернемся к проблеме аномальных значений стажа на последнем месте работы. Будем считать аномальными такие значения, для которых стаж в годах больше, чем количество лет клиента минус 16 (т.е. клиент не смог бы получить такой стаж, если бы работал в одной и той же компании начиная с 16 лет):"
   ],
   "metadata": {
    "collapsed": false
   },
   "id": "a70d9b3328f0032e"
  },
  {
   "cell_type": "code",
   "execution_count": 56,
   "outputs": [
    {
     "data": {
      "text/plain": "       AGE  WORK_TIME\n148     43      360.0\n676     53      780.0\n1092    45     1312.0\n2179    23      156.0\n2532    58     4320.0\n2983    44      600.0\n3039    40      480.0\n3323    39      612.0\n3797    39      300.0\n4155    40      328.0\n4191    33      228.0\n4296    50    10000.0\n4580    45      408.0\n4627    30      180.0\n5011    24      108.0\n5375    64     3500.0\n6113    44      432.0\n6569    38      312.0\n6724    47      456.0\n7711    62      730.0\n7801    26      180.0\n7930    33      288.0\n8585    54      492.0\n8864    50      540.0\n8900    53      457.0\n8984    25  2867959.0\n9144    24      168.0\n9180    25      180.0\n9803    40      360.0\n9852    38     1500.0\n9983    42      976.0\n10171   30      860.0\n10677   28      864.0\n10923   29      204.0\n11598   31      200.0\n11720   59     1254.0\n11940   29      504.0\n13179   33      432.0\n13477   54      576.0\n13928   28     1120.0\n13980   34      300.0\n14912   31      204.0\n14958   32      612.0\n15054   54      480.0",
      "text/html": "<div>\n<style scoped>\n    .dataframe tbody tr th:only-of-type {\n        vertical-align: middle;\n    }\n\n    .dataframe tbody tr th {\n        vertical-align: top;\n    }\n\n    .dataframe thead th {\n        text-align: right;\n    }\n</style>\n<table border=\"1\" class=\"dataframe\">\n  <thead>\n    <tr style=\"text-align: right;\">\n      <th></th>\n      <th>AGE</th>\n      <th>WORK_TIME</th>\n    </tr>\n  </thead>\n  <tbody>\n    <tr>\n      <th>148</th>\n      <td>43</td>\n      <td>360.0</td>\n    </tr>\n    <tr>\n      <th>676</th>\n      <td>53</td>\n      <td>780.0</td>\n    </tr>\n    <tr>\n      <th>1092</th>\n      <td>45</td>\n      <td>1312.0</td>\n    </tr>\n    <tr>\n      <th>2179</th>\n      <td>23</td>\n      <td>156.0</td>\n    </tr>\n    <tr>\n      <th>2532</th>\n      <td>58</td>\n      <td>4320.0</td>\n    </tr>\n    <tr>\n      <th>2983</th>\n      <td>44</td>\n      <td>600.0</td>\n    </tr>\n    <tr>\n      <th>3039</th>\n      <td>40</td>\n      <td>480.0</td>\n    </tr>\n    <tr>\n      <th>3323</th>\n      <td>39</td>\n      <td>612.0</td>\n    </tr>\n    <tr>\n      <th>3797</th>\n      <td>39</td>\n      <td>300.0</td>\n    </tr>\n    <tr>\n      <th>4155</th>\n      <td>40</td>\n      <td>328.0</td>\n    </tr>\n    <tr>\n      <th>4191</th>\n      <td>33</td>\n      <td>228.0</td>\n    </tr>\n    <tr>\n      <th>4296</th>\n      <td>50</td>\n      <td>10000.0</td>\n    </tr>\n    <tr>\n      <th>4580</th>\n      <td>45</td>\n      <td>408.0</td>\n    </tr>\n    <tr>\n      <th>4627</th>\n      <td>30</td>\n      <td>180.0</td>\n    </tr>\n    <tr>\n      <th>5011</th>\n      <td>24</td>\n      <td>108.0</td>\n    </tr>\n    <tr>\n      <th>5375</th>\n      <td>64</td>\n      <td>3500.0</td>\n    </tr>\n    <tr>\n      <th>6113</th>\n      <td>44</td>\n      <td>432.0</td>\n    </tr>\n    <tr>\n      <th>6569</th>\n      <td>38</td>\n      <td>312.0</td>\n    </tr>\n    <tr>\n      <th>6724</th>\n      <td>47</td>\n      <td>456.0</td>\n    </tr>\n    <tr>\n      <th>7711</th>\n      <td>62</td>\n      <td>730.0</td>\n    </tr>\n    <tr>\n      <th>7801</th>\n      <td>26</td>\n      <td>180.0</td>\n    </tr>\n    <tr>\n      <th>7930</th>\n      <td>33</td>\n      <td>288.0</td>\n    </tr>\n    <tr>\n      <th>8585</th>\n      <td>54</td>\n      <td>492.0</td>\n    </tr>\n    <tr>\n      <th>8864</th>\n      <td>50</td>\n      <td>540.0</td>\n    </tr>\n    <tr>\n      <th>8900</th>\n      <td>53</td>\n      <td>457.0</td>\n    </tr>\n    <tr>\n      <th>8984</th>\n      <td>25</td>\n      <td>2867959.0</td>\n    </tr>\n    <tr>\n      <th>9144</th>\n      <td>24</td>\n      <td>168.0</td>\n    </tr>\n    <tr>\n      <th>9180</th>\n      <td>25</td>\n      <td>180.0</td>\n    </tr>\n    <tr>\n      <th>9803</th>\n      <td>40</td>\n      <td>360.0</td>\n    </tr>\n    <tr>\n      <th>9852</th>\n      <td>38</td>\n      <td>1500.0</td>\n    </tr>\n    <tr>\n      <th>9983</th>\n      <td>42</td>\n      <td>976.0</td>\n    </tr>\n    <tr>\n      <th>10171</th>\n      <td>30</td>\n      <td>860.0</td>\n    </tr>\n    <tr>\n      <th>10677</th>\n      <td>28</td>\n      <td>864.0</td>\n    </tr>\n    <tr>\n      <th>10923</th>\n      <td>29</td>\n      <td>204.0</td>\n    </tr>\n    <tr>\n      <th>11598</th>\n      <td>31</td>\n      <td>200.0</td>\n    </tr>\n    <tr>\n      <th>11720</th>\n      <td>59</td>\n      <td>1254.0</td>\n    </tr>\n    <tr>\n      <th>11940</th>\n      <td>29</td>\n      <td>504.0</td>\n    </tr>\n    <tr>\n      <th>13179</th>\n      <td>33</td>\n      <td>432.0</td>\n    </tr>\n    <tr>\n      <th>13477</th>\n      <td>54</td>\n      <td>576.0</td>\n    </tr>\n    <tr>\n      <th>13928</th>\n      <td>28</td>\n      <td>1120.0</td>\n    </tr>\n    <tr>\n      <th>13980</th>\n      <td>34</td>\n      <td>300.0</td>\n    </tr>\n    <tr>\n      <th>14912</th>\n      <td>31</td>\n      <td>204.0</td>\n    </tr>\n    <tr>\n      <th>14958</th>\n      <td>32</td>\n      <td>612.0</td>\n    </tr>\n    <tr>\n      <th>15054</th>\n      <td>54</td>\n      <td>480.0</td>\n    </tr>\n  </tbody>\n</table>\n</div>"
     },
     "execution_count": 56,
     "metadata": {},
     "output_type": "execute_result"
    }
   ],
   "source": [
    "# вывод на экран аномальных значений стажа на последнем месте работы\n",
    "data_full[(data_full.WORK_TIME // 12) > (data_full.AGE - 16)][['AGE', 'WORK_TIME']]"
   ],
   "metadata": {
    "collapsed": false,
    "ExecuteTime": {
     "end_time": "2023-12-10T17:38:28.587543Z",
     "start_time": "2023-12-10T17:38:28.151847Z"
    }
   },
   "id": "ed7a888994b66008"
  },
  {
   "cell_type": "markdown",
   "source": [
    "При использовании нашего предположения датасет содержит 44 аномальных значения стажа. Заменим такие значения медианой:"
   ],
   "metadata": {
    "collapsed": false
   },
   "id": "4dc8b3a92fa659d5"
  },
  {
   "cell_type": "code",
   "execution_count": 57,
   "outputs": [],
   "source": [
    "# устранение аномальных значений в столбце WORK_TIME\n",
    "data_full.loc[data_full[(data_full.WORK_TIME // 12) > (data_full.AGE - 16)].index, 'WORK_TIME'] = data_full[data_full.WORK_TIME != -1].WORK_TIME.median()"
   ],
   "metadata": {
    "collapsed": false,
    "ExecuteTime": {
     "end_time": "2023-12-10T17:38:28.603082Z",
     "start_time": "2023-12-10T17:38:28.158517Z"
    }
   },
   "id": "d906af0f3d4ebd97"
  },
  {
   "cell_type": "code",
   "execution_count": 58,
   "outputs": [],
   "source": [
    "# сохранение объединенного датасета\n",
    "data_full.to_csv(DATA_PATH + DATA_FULL_FILENAME, index=False)"
   ],
   "metadata": {
    "collapsed": false,
    "ExecuteTime": {
     "end_time": "2023-12-10T17:38:28.660268Z",
     "start_time": "2023-12-10T17:38:28.164195Z"
    }
   },
   "id": "fcbf4805d1f16ed1"
  },
  {
   "cell_type": "code",
   "execution_count": 58,
   "outputs": [],
   "source": [],
   "metadata": {
    "collapsed": false,
    "ExecuteTime": {
     "end_time": "2023-12-10T17:38:28.671038Z",
     "start_time": "2023-12-10T17:38:28.321343Z"
    }
   },
   "id": "4ce86b002f120231"
  }
 ],
 "metadata": {
  "kernelspec": {
   "display_name": "Python 3",
   "language": "python",
   "name": "python3"
  },
  "language_info": {
   "codemirror_mode": {
    "name": "ipython",
    "version": 2
   },
   "file_extension": ".py",
   "mimetype": "text/x-python",
   "name": "python",
   "nbconvert_exporter": "python",
   "pygments_lexer": "ipython2",
   "version": "2.7.6"
  }
 },
 "nbformat": 4,
 "nbformat_minor": 5
}
